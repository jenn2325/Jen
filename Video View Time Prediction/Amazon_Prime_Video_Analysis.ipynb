{
  "nbformat": 4,
  "nbformat_minor": 0,
  "metadata": {
    "colab": {
      "name": "Amazon Prime Video Analysis.ipynb",
      "provenance": [],
      "collapsed_sections": [],
      "toc_visible": true,
      "authorship_tag": "ABX9TyPzkxjSFqXO1BVgeHWeTwhn",
      "include_colab_link": true
    },
    "kernelspec": {
      "name": "python3",
      "display_name": "Python 3"
    },
    "language_info": {
      "name": "python"
    }
  },
  "cells": [
    {
      "cell_type": "markdown",
      "metadata": {
        "id": "view-in-github",
        "colab_type": "text"
      },
      "source": [
        "<a href=\"https://colab.research.google.com/github/jenn2325/Jen/blob/main/Amazon_Prime_Video_Analysis.ipynb\" target=\"_parent\"><img src=\"https://colab.research.google.com/assets/colab-badge.svg\" alt=\"Open In Colab\"/></a>"
      ]
    },
    {
      "cell_type": "markdown",
      "source": [
        "#Problem Statement:\n",
        "Build a numeric predict model to predict cvt_per_day based on information provided from the data.\n",
        "1. Exploratory Data Analysis\n",
        "2. Selecte/transform/engineer new features\n",
        "3. Train and evaluate models\n",
        "4. Additional insights"
      ],
      "metadata": {
        "id": "HNCyyyuPikIF"
      }
    },
    {
      "cell_type": "markdown",
      "source": [
        "# Part 0: Load packages and data"
      ],
      "metadata": {
        "id": "VG_xla63nfhK"
      }
    },
    {
      "cell_type": "code",
      "source": [
        "# Import libraries and change dispaly setings\n",
        "import numpy as np\n",
        "import pandas as pd\n",
        "import matplotlib.pyplot as plt\n",
        "#from matplotlib import colors\n",
        "import seaborn as sns\n",
        "%matplotlib inline\n",
        "import sklearn.preprocessing as preprocessing\n",
        "from sklearn.model_selection import train_test_split\n",
        "from sklearn.linear_model import LinearRegression, Lasso, Ridge\n",
        "from sklearn.ensemble import RandomForestRegressor\n",
        "from sklearn.model_selection import GridSearchCV\n",
        "from sklearn.metrics import mean_squared_error\n",
        "pd.set_option('display.max_columns', None)\n",
        "pd.set_option('display.max_rows', None)"
      ],
      "metadata": {
        "id": "74oHmEkInrsF"
      },
      "execution_count": null,
      "outputs": []
    },
    {
      "cell_type": "code",
      "execution_count": null,
      "metadata": {
        "colab": {
          "base_uri": "https://localhost:8080/"
        },
        "id": "RSL3HxeSiTY4",
        "outputId": "72f05416-1615-4a18-f2ef-84a40c1d8afa"
      },
      "outputs": [
        {
          "output_type": "stream",
          "name": "stdout",
          "text": [
            "Drive already mounted at /content/drive/; to attempt to forcibly remount, call drive.mount(\"/content/drive/\", force_remount=True).\n"
          ]
        }
      ],
      "source": [
        "# upload data\n",
        "from google.colab import drive\n",
        "drive.mount('/content/drive/')"
      ]
    },
    {
      "cell_type": "code",
      "source": [
        "# read data\n",
        "df = pd.read_csv('/content/drive/MyDrive/Colab Notebooks/Projects/Amazon_Prime/TVdata.txt')"
      ],
      "metadata": {
        "id": "B6DuP2kckxbo"
      },
      "execution_count": null,
      "outputs": []
    },
    {
      "cell_type": "markdown",
      "source": [
        "# Part 1: Exploratory Data Analysis\n",
        "\n"
      ],
      "metadata": {
        "id": "hELr1mb8txMv"
      }
    },
    {
      "cell_type": "markdown",
      "source": [
        "## Part 1.1: Data Overview"
      ],
      "metadata": {
        "id": "eAn1b6BhuBNu"
      }
    },
    {
      "cell_type": "code",
      "source": [
        "df.head(6)"
      ],
      "metadata": {
        "colab": {
          "base_uri": "https://localhost:8080/",
          "height": 388
        },
        "id": "mfuWCIyVpn07",
        "outputId": "58054880-3fbc-4e74-a216-42dfcb3dd314"
      },
      "execution_count": null,
      "outputs": [
        {
          "output_type": "execute_result",
          "data": {
            "text/plain": [
              "   video_id    cvt_per_day  weighted_categorical_position  \\\n",
              "0    385504  307127.605608                              1   \n",
              "1    300175  270338.426375                              1   \n",
              "2    361899  256165.867446                              1   \n",
              "3    308314  196622.720996                              3   \n",
              "4    307201  159841.652064                              1   \n",
              "5    389496  135076.609750                              1   \n",
              "\n",
              "   weighted_horizontal_poition  import_id  release_year  \\\n",
              "0                            3  lionsgate          2013   \n",
              "1                            3  lionsgate          2013   \n",
              "2                            3      other          2012   \n",
              "3                            4  lionsgate          2008   \n",
              "4                            3  lionsgate          2013   \n",
              "5                            5        mgm          2000   \n",
              "\n",
              "                                          genres  imdb_votes    budget  \\\n",
              "0                          Action,Thriller,Drama       69614  15000000   \n",
              "1                          Comedy,Crime,Thriller       46705  15000000   \n",
              "2                                    Crime,Drama      197596  26000000   \n",
              "3  Thriller,Drama,War,Documentary,Mystery,Action      356339  15000000   \n",
              "4             Crime,Thriller,Mystery,Documentary       46720  27220000   \n",
              "5                                         Comedy       13250  60000000   \n",
              "\n",
              "   boxoffice  imdb_rating  duration_in_mins  metacritic_score       awards  \\\n",
              "0   42930462          6.5        112.301017                51  other award   \n",
              "1    3301046          6.5         94.983250                41     no award   \n",
              "2   37397291          7.3        115.763675                58  other award   \n",
              "3   15700000          7.6        130.703583                94        Oscar   \n",
              "4    8551228          6.4        105.545533                37  other award   \n",
              "5   32095318          5.5         98.468350                37     no award   \n",
              "\n",
              "    mpaa  star_category  \n",
              "0  PG-13       1.710000  \n",
              "1      R       3.250000  \n",
              "2      R       2.646667  \n",
              "3      R       1.666667  \n",
              "4      R       3.066667  \n",
              "5  PG-13       2.750000  "
            ],
            "text/html": [
              "\n",
              "  <div id=\"df-a2b26ed6-ef34-4407-8091-f4085613a043\">\n",
              "    <div class=\"colab-df-container\">\n",
              "      <div>\n",
              "<style scoped>\n",
              "    .dataframe tbody tr th:only-of-type {\n",
              "        vertical-align: middle;\n",
              "    }\n",
              "\n",
              "    .dataframe tbody tr th {\n",
              "        vertical-align: top;\n",
              "    }\n",
              "\n",
              "    .dataframe thead th {\n",
              "        text-align: right;\n",
              "    }\n",
              "</style>\n",
              "<table border=\"1\" class=\"dataframe\">\n",
              "  <thead>\n",
              "    <tr style=\"text-align: right;\">\n",
              "      <th></th>\n",
              "      <th>video_id</th>\n",
              "      <th>cvt_per_day</th>\n",
              "      <th>weighted_categorical_position</th>\n",
              "      <th>weighted_horizontal_poition</th>\n",
              "      <th>import_id</th>\n",
              "      <th>release_year</th>\n",
              "      <th>genres</th>\n",
              "      <th>imdb_votes</th>\n",
              "      <th>budget</th>\n",
              "      <th>boxoffice</th>\n",
              "      <th>imdb_rating</th>\n",
              "      <th>duration_in_mins</th>\n",
              "      <th>metacritic_score</th>\n",
              "      <th>awards</th>\n",
              "      <th>mpaa</th>\n",
              "      <th>star_category</th>\n",
              "    </tr>\n",
              "  </thead>\n",
              "  <tbody>\n",
              "    <tr>\n",
              "      <th>0</th>\n",
              "      <td>385504</td>\n",
              "      <td>307127.605608</td>\n",
              "      <td>1</td>\n",
              "      <td>3</td>\n",
              "      <td>lionsgate</td>\n",
              "      <td>2013</td>\n",
              "      <td>Action,Thriller,Drama</td>\n",
              "      <td>69614</td>\n",
              "      <td>15000000</td>\n",
              "      <td>42930462</td>\n",
              "      <td>6.5</td>\n",
              "      <td>112.301017</td>\n",
              "      <td>51</td>\n",
              "      <td>other award</td>\n",
              "      <td>PG-13</td>\n",
              "      <td>1.710000</td>\n",
              "    </tr>\n",
              "    <tr>\n",
              "      <th>1</th>\n",
              "      <td>300175</td>\n",
              "      <td>270338.426375</td>\n",
              "      <td>1</td>\n",
              "      <td>3</td>\n",
              "      <td>lionsgate</td>\n",
              "      <td>2013</td>\n",
              "      <td>Comedy,Crime,Thriller</td>\n",
              "      <td>46705</td>\n",
              "      <td>15000000</td>\n",
              "      <td>3301046</td>\n",
              "      <td>6.5</td>\n",
              "      <td>94.983250</td>\n",
              "      <td>41</td>\n",
              "      <td>no award</td>\n",
              "      <td>R</td>\n",
              "      <td>3.250000</td>\n",
              "    </tr>\n",
              "    <tr>\n",
              "      <th>2</th>\n",
              "      <td>361899</td>\n",
              "      <td>256165.867446</td>\n",
              "      <td>1</td>\n",
              "      <td>3</td>\n",
              "      <td>other</td>\n",
              "      <td>2012</td>\n",
              "      <td>Crime,Drama</td>\n",
              "      <td>197596</td>\n",
              "      <td>26000000</td>\n",
              "      <td>37397291</td>\n",
              "      <td>7.3</td>\n",
              "      <td>115.763675</td>\n",
              "      <td>58</td>\n",
              "      <td>other award</td>\n",
              "      <td>R</td>\n",
              "      <td>2.646667</td>\n",
              "    </tr>\n",
              "    <tr>\n",
              "      <th>3</th>\n",
              "      <td>308314</td>\n",
              "      <td>196622.720996</td>\n",
              "      <td>3</td>\n",
              "      <td>4</td>\n",
              "      <td>lionsgate</td>\n",
              "      <td>2008</td>\n",
              "      <td>Thriller,Drama,War,Documentary,Mystery,Action</td>\n",
              "      <td>356339</td>\n",
              "      <td>15000000</td>\n",
              "      <td>15700000</td>\n",
              "      <td>7.6</td>\n",
              "      <td>130.703583</td>\n",
              "      <td>94</td>\n",
              "      <td>Oscar</td>\n",
              "      <td>R</td>\n",
              "      <td>1.666667</td>\n",
              "    </tr>\n",
              "    <tr>\n",
              "      <th>4</th>\n",
              "      <td>307201</td>\n",
              "      <td>159841.652064</td>\n",
              "      <td>1</td>\n",
              "      <td>3</td>\n",
              "      <td>lionsgate</td>\n",
              "      <td>2013</td>\n",
              "      <td>Crime,Thriller,Mystery,Documentary</td>\n",
              "      <td>46720</td>\n",
              "      <td>27220000</td>\n",
              "      <td>8551228</td>\n",
              "      <td>6.4</td>\n",
              "      <td>105.545533</td>\n",
              "      <td>37</td>\n",
              "      <td>other award</td>\n",
              "      <td>R</td>\n",
              "      <td>3.066667</td>\n",
              "    </tr>\n",
              "    <tr>\n",
              "      <th>5</th>\n",
              "      <td>389496</td>\n",
              "      <td>135076.609750</td>\n",
              "      <td>1</td>\n",
              "      <td>5</td>\n",
              "      <td>mgm</td>\n",
              "      <td>2000</td>\n",
              "      <td>Comedy</td>\n",
              "      <td>13250</td>\n",
              "      <td>60000000</td>\n",
              "      <td>32095318</td>\n",
              "      <td>5.5</td>\n",
              "      <td>98.468350</td>\n",
              "      <td>37</td>\n",
              "      <td>no award</td>\n",
              "      <td>PG-13</td>\n",
              "      <td>2.750000</td>\n",
              "    </tr>\n",
              "  </tbody>\n",
              "</table>\n",
              "</div>\n",
              "      <button class=\"colab-df-convert\" onclick=\"convertToInteractive('df-a2b26ed6-ef34-4407-8091-f4085613a043')\"\n",
              "              title=\"Convert this dataframe to an interactive table.\"\n",
              "              style=\"display:none;\">\n",
              "        \n",
              "  <svg xmlns=\"http://www.w3.org/2000/svg\" height=\"24px\"viewBox=\"0 0 24 24\"\n",
              "       width=\"24px\">\n",
              "    <path d=\"M0 0h24v24H0V0z\" fill=\"none\"/>\n",
              "    <path d=\"M18.56 5.44l.94 2.06.94-2.06 2.06-.94-2.06-.94-.94-2.06-.94 2.06-2.06.94zm-11 1L8.5 8.5l.94-2.06 2.06-.94-2.06-.94L8.5 2.5l-.94 2.06-2.06.94zm10 10l.94 2.06.94-2.06 2.06-.94-2.06-.94-.94-2.06-.94 2.06-2.06.94z\"/><path d=\"M17.41 7.96l-1.37-1.37c-.4-.4-.92-.59-1.43-.59-.52 0-1.04.2-1.43.59L10.3 9.45l-7.72 7.72c-.78.78-.78 2.05 0 2.83L4 21.41c.39.39.9.59 1.41.59.51 0 1.02-.2 1.41-.59l7.78-7.78 2.81-2.81c.8-.78.8-2.07 0-2.86zM5.41 20L4 18.59l7.72-7.72 1.47 1.35L5.41 20z\"/>\n",
              "  </svg>\n",
              "      </button>\n",
              "      \n",
              "  <style>\n",
              "    .colab-df-container {\n",
              "      display:flex;\n",
              "      flex-wrap:wrap;\n",
              "      gap: 12px;\n",
              "    }\n",
              "\n",
              "    .colab-df-convert {\n",
              "      background-color: #E8F0FE;\n",
              "      border: none;\n",
              "      border-radius: 50%;\n",
              "      cursor: pointer;\n",
              "      display: none;\n",
              "      fill: #1967D2;\n",
              "      height: 32px;\n",
              "      padding: 0 0 0 0;\n",
              "      width: 32px;\n",
              "    }\n",
              "\n",
              "    .colab-df-convert:hover {\n",
              "      background-color: #E2EBFA;\n",
              "      box-shadow: 0px 1px 2px rgba(60, 64, 67, 0.3), 0px 1px 3px 1px rgba(60, 64, 67, 0.15);\n",
              "      fill: #174EA6;\n",
              "    }\n",
              "\n",
              "    [theme=dark] .colab-df-convert {\n",
              "      background-color: #3B4455;\n",
              "      fill: #D2E3FC;\n",
              "    }\n",
              "\n",
              "    [theme=dark] .colab-df-convert:hover {\n",
              "      background-color: #434B5C;\n",
              "      box-shadow: 0px 1px 3px 1px rgba(0, 0, 0, 0.15);\n",
              "      filter: drop-shadow(0px 1px 2px rgba(0, 0, 0, 0.3));\n",
              "      fill: #FFFFFF;\n",
              "    }\n",
              "  </style>\n",
              "\n",
              "      <script>\n",
              "        const buttonEl =\n",
              "          document.querySelector('#df-a2b26ed6-ef34-4407-8091-f4085613a043 button.colab-df-convert');\n",
              "        buttonEl.style.display =\n",
              "          google.colab.kernel.accessAllowed ? 'block' : 'none';\n",
              "\n",
              "        async function convertToInteractive(key) {\n",
              "          const element = document.querySelector('#df-a2b26ed6-ef34-4407-8091-f4085613a043');\n",
              "          const dataTable =\n",
              "            await google.colab.kernel.invokeFunction('convertToInteractive',\n",
              "                                                     [key], {});\n",
              "          if (!dataTable) return;\n",
              "\n",
              "          const docLinkHtml = 'Like what you see? Visit the ' +\n",
              "            '<a target=\"_blank\" href=https://colab.research.google.com/notebooks/data_table.ipynb>data table notebook</a>'\n",
              "            + ' to learn more about interactive tables.';\n",
              "          element.innerHTML = '';\n",
              "          dataTable['output_type'] = 'display_data';\n",
              "          await google.colab.output.renderOutput(dataTable, element);\n",
              "          const docLink = document.createElement('div');\n",
              "          docLink.innerHTML = docLinkHtml;\n",
              "          element.appendChild(docLink);\n",
              "        }\n",
              "      </script>\n",
              "    </div>\n",
              "  </div>\n",
              "  "
            ]
          },
          "metadata": {},
          "execution_count": 4
        }
      ]
    },
    {
      "cell_type": "code",
      "source": [
        "print(df.shape)"
      ],
      "metadata": {
        "colab": {
          "base_uri": "https://localhost:8080/"
        },
        "id": "Kuw5bUiqp9A5",
        "outputId": "b7ea4983-5009-4d2e-f197-743f430bfab8"
      },
      "execution_count": null,
      "outputs": [
        {
          "output_type": "stream",
          "name": "stdout",
          "text": [
            "(4226, 16)\n"
          ]
        }
      ]
    },
    {
      "cell_type": "code",
      "source": [
        "# Check for any missing values\n",
        "df.info()"
      ],
      "metadata": {
        "colab": {
          "base_uri": "https://localhost:8080/"
        },
        "id": "gCVtZI9zvTH0",
        "outputId": "1793bb89-1f62-4183-ae39-2fc25d4d1d08"
      },
      "execution_count": null,
      "outputs": [
        {
          "output_type": "stream",
          "name": "stdout",
          "text": [
            "<class 'pandas.core.frame.DataFrame'>\n",
            "RangeIndex: 4226 entries, 0 to 4225\n",
            "Data columns (total 16 columns):\n",
            " #   Column                         Non-Null Count  Dtype  \n",
            "---  ------                         --------------  -----  \n",
            " 0   video_id                       4226 non-null   int64  \n",
            " 1   cvt_per_day                    4226 non-null   float64\n",
            " 2   weighted_categorical_position  4226 non-null   int64  \n",
            " 3   weighted_horizontal_poition    4226 non-null   int64  \n",
            " 4   import_id                      4226 non-null   object \n",
            " 5   release_year                   4226 non-null   int64  \n",
            " 6   genres                         4226 non-null   object \n",
            " 7   imdb_votes                     4226 non-null   int64  \n",
            " 8   budget                         4226 non-null   int64  \n",
            " 9   boxoffice                      4226 non-null   int64  \n",
            " 10  imdb_rating                    4226 non-null   float64\n",
            " 11  duration_in_mins               4226 non-null   float64\n",
            " 12  metacritic_score               4226 non-null   int64  \n",
            " 13  awards                         4226 non-null   object \n",
            " 14  mpaa                           4226 non-null   object \n",
            " 15  star_category                  4226 non-null   float64\n",
            "dtypes: float64(4), int64(8), object(4)\n",
            "memory usage: 528.4+ KB\n"
          ]
        }
      ]
    },
    {
      "cell_type": "code",
      "source": [
        "#check duplicates:\n",
        "if df['video_id'].duplicated().sum()==0:\n",
        "  print('no duplicates')\n",
        "else:\n",
        "  print('duplicates found')"
      ],
      "metadata": {
        "colab": {
          "base_uri": "https://localhost:8080/"
        },
        "id": "kIXYyTQEyGwH",
        "outputId": "6ecac194-29da-418d-9393-c06dffc8c84e"
      },
      "execution_count": null,
      "outputs": [
        {
          "output_type": "stream",
          "name": "stdout",
          "text": [
            "no duplicates\n"
          ]
        }
      ]
    },
    {
      "cell_type": "markdown",
      "source": [
        "## Part 1.2: Numerical Features"
      ],
      "metadata": {
        "id": "_1P7CEAWCk7F"
      }
    },
    {
      "cell_type": "code",
      "source": [
        "# Statistics on numerical features\n",
        "df.describe()"
      ],
      "metadata": {
        "colab": {
          "base_uri": "https://localhost:8080/",
          "height": 364
        },
        "id": "a09JOpfIvfmA",
        "outputId": "5c3b2f81-06cb-4147-ead8-10de5fea5bc3"
      },
      "execution_count": null,
      "outputs": [
        {
          "output_type": "execute_result",
          "data": {
            "text/plain": [
              "            video_id    cvt_per_day  weighted_categorical_position  \\\n",
              "count    4226.000000    4226.000000                    4226.000000   \n",
              "mean   280371.162565    4218.630239                       7.782537   \n",
              "std    112640.127822   13036.079964                       6.134183   \n",
              "min      7909.000000       2.187625                       1.000000   \n",
              "25%    285104.250000     351.168776                       4.000000   \n",
              "50%    313891.500000    1193.499989                       6.000000   \n",
              "75%    349345.750000    3356.788816                       9.000000   \n",
              "max    394880.000000  307127.605608                      41.000000   \n",
              "\n",
              "       weighted_horizontal_poition  release_year     imdb_votes        budget  \\\n",
              "count                  4226.000000   4226.000000    4226.000000  4.226000e+03   \n",
              "mean                     28.103644   2001.056791    6462.924042  2.150743e+06   \n",
              "std                      11.863649     17.496849   31596.006790  7.176604e+06   \n",
              "min                       1.000000   1916.000000       0.000000  0.000000e+00   \n",
              "25%                      20.000000   1998.000000      81.000000  0.000000e+00   \n",
              "50%                      28.000000   2008.000000     535.000000  0.000000e+00   \n",
              "75%                      36.000000   2012.000000    3053.000000  1.500000e+06   \n",
              "max                      70.000000   2017.000000  948630.000000  1.070000e+08   \n",
              "\n",
              "          boxoffice  imdb_rating  duration_in_mins  metacritic_score  \\\n",
              "count  4.226000e+03  4226.000000       4226.000000       4226.000000   \n",
              "mean   2.536338e+06     5.257099         89.556123         15.973734   \n",
              "std    8.243516e+06     2.122810         21.086183         26.205217   \n",
              "min    0.000000e+00     0.000000          4.037250          0.000000   \n",
              "25%    0.000000e+00     4.300000         82.601712          0.000000   \n",
              "50%    0.000000e+00     5.800000         90.730308          0.000000   \n",
              "75%    0.000000e+00     6.800000         99.500312         41.000000   \n",
              "max    1.842088e+08    10.000000        246.016767        100.000000   \n",
              "\n",
              "       star_category  \n",
              "count    4226.000000  \n",
              "mean        0.954651  \n",
              "std         0.955045  \n",
              "min         0.000000  \n",
              "25%         0.000000  \n",
              "50%         1.000000  \n",
              "75%         1.666667  \n",
              "max         4.000000  "
            ],
            "text/html": [
              "\n",
              "  <div id=\"df-000f6900-77e4-4a01-ac73-3cc50505e380\">\n",
              "    <div class=\"colab-df-container\">\n",
              "      <div>\n",
              "<style scoped>\n",
              "    .dataframe tbody tr th:only-of-type {\n",
              "        vertical-align: middle;\n",
              "    }\n",
              "\n",
              "    .dataframe tbody tr th {\n",
              "        vertical-align: top;\n",
              "    }\n",
              "\n",
              "    .dataframe thead th {\n",
              "        text-align: right;\n",
              "    }\n",
              "</style>\n",
              "<table border=\"1\" class=\"dataframe\">\n",
              "  <thead>\n",
              "    <tr style=\"text-align: right;\">\n",
              "      <th></th>\n",
              "      <th>video_id</th>\n",
              "      <th>cvt_per_day</th>\n",
              "      <th>weighted_categorical_position</th>\n",
              "      <th>weighted_horizontal_poition</th>\n",
              "      <th>release_year</th>\n",
              "      <th>imdb_votes</th>\n",
              "      <th>budget</th>\n",
              "      <th>boxoffice</th>\n",
              "      <th>imdb_rating</th>\n",
              "      <th>duration_in_mins</th>\n",
              "      <th>metacritic_score</th>\n",
              "      <th>star_category</th>\n",
              "    </tr>\n",
              "  </thead>\n",
              "  <tbody>\n",
              "    <tr>\n",
              "      <th>count</th>\n",
              "      <td>4226.000000</td>\n",
              "      <td>4226.000000</td>\n",
              "      <td>4226.000000</td>\n",
              "      <td>4226.000000</td>\n",
              "      <td>4226.000000</td>\n",
              "      <td>4226.000000</td>\n",
              "      <td>4.226000e+03</td>\n",
              "      <td>4.226000e+03</td>\n",
              "      <td>4226.000000</td>\n",
              "      <td>4226.000000</td>\n",
              "      <td>4226.000000</td>\n",
              "      <td>4226.000000</td>\n",
              "    </tr>\n",
              "    <tr>\n",
              "      <th>mean</th>\n",
              "      <td>280371.162565</td>\n",
              "      <td>4218.630239</td>\n",
              "      <td>7.782537</td>\n",
              "      <td>28.103644</td>\n",
              "      <td>2001.056791</td>\n",
              "      <td>6462.924042</td>\n",
              "      <td>2.150743e+06</td>\n",
              "      <td>2.536338e+06</td>\n",
              "      <td>5.257099</td>\n",
              "      <td>89.556123</td>\n",
              "      <td>15.973734</td>\n",
              "      <td>0.954651</td>\n",
              "    </tr>\n",
              "    <tr>\n",
              "      <th>std</th>\n",
              "      <td>112640.127822</td>\n",
              "      <td>13036.079964</td>\n",
              "      <td>6.134183</td>\n",
              "      <td>11.863649</td>\n",
              "      <td>17.496849</td>\n",
              "      <td>31596.006790</td>\n",
              "      <td>7.176604e+06</td>\n",
              "      <td>8.243516e+06</td>\n",
              "      <td>2.122810</td>\n",
              "      <td>21.086183</td>\n",
              "      <td>26.205217</td>\n",
              "      <td>0.955045</td>\n",
              "    </tr>\n",
              "    <tr>\n",
              "      <th>min</th>\n",
              "      <td>7909.000000</td>\n",
              "      <td>2.187625</td>\n",
              "      <td>1.000000</td>\n",
              "      <td>1.000000</td>\n",
              "      <td>1916.000000</td>\n",
              "      <td>0.000000</td>\n",
              "      <td>0.000000e+00</td>\n",
              "      <td>0.000000e+00</td>\n",
              "      <td>0.000000</td>\n",
              "      <td>4.037250</td>\n",
              "      <td>0.000000</td>\n",
              "      <td>0.000000</td>\n",
              "    </tr>\n",
              "    <tr>\n",
              "      <th>25%</th>\n",
              "      <td>285104.250000</td>\n",
              "      <td>351.168776</td>\n",
              "      <td>4.000000</td>\n",
              "      <td>20.000000</td>\n",
              "      <td>1998.000000</td>\n",
              "      <td>81.000000</td>\n",
              "      <td>0.000000e+00</td>\n",
              "      <td>0.000000e+00</td>\n",
              "      <td>4.300000</td>\n",
              "      <td>82.601712</td>\n",
              "      <td>0.000000</td>\n",
              "      <td>0.000000</td>\n",
              "    </tr>\n",
              "    <tr>\n",
              "      <th>50%</th>\n",
              "      <td>313891.500000</td>\n",
              "      <td>1193.499989</td>\n",
              "      <td>6.000000</td>\n",
              "      <td>28.000000</td>\n",
              "      <td>2008.000000</td>\n",
              "      <td>535.000000</td>\n",
              "      <td>0.000000e+00</td>\n",
              "      <td>0.000000e+00</td>\n",
              "      <td>5.800000</td>\n",
              "      <td>90.730308</td>\n",
              "      <td>0.000000</td>\n",
              "      <td>1.000000</td>\n",
              "    </tr>\n",
              "    <tr>\n",
              "      <th>75%</th>\n",
              "      <td>349345.750000</td>\n",
              "      <td>3356.788816</td>\n",
              "      <td>9.000000</td>\n",
              "      <td>36.000000</td>\n",
              "      <td>2012.000000</td>\n",
              "      <td>3053.000000</td>\n",
              "      <td>1.500000e+06</td>\n",
              "      <td>0.000000e+00</td>\n",
              "      <td>6.800000</td>\n",
              "      <td>99.500312</td>\n",
              "      <td>41.000000</td>\n",
              "      <td>1.666667</td>\n",
              "    </tr>\n",
              "    <tr>\n",
              "      <th>max</th>\n",
              "      <td>394880.000000</td>\n",
              "      <td>307127.605608</td>\n",
              "      <td>41.000000</td>\n",
              "      <td>70.000000</td>\n",
              "      <td>2017.000000</td>\n",
              "      <td>948630.000000</td>\n",
              "      <td>1.070000e+08</td>\n",
              "      <td>1.842088e+08</td>\n",
              "      <td>10.000000</td>\n",
              "      <td>246.016767</td>\n",
              "      <td>100.000000</td>\n",
              "      <td>4.000000</td>\n",
              "    </tr>\n",
              "  </tbody>\n",
              "</table>\n",
              "</div>\n",
              "      <button class=\"colab-df-convert\" onclick=\"convertToInteractive('df-000f6900-77e4-4a01-ac73-3cc50505e380')\"\n",
              "              title=\"Convert this dataframe to an interactive table.\"\n",
              "              style=\"display:none;\">\n",
              "        \n",
              "  <svg xmlns=\"http://www.w3.org/2000/svg\" height=\"24px\"viewBox=\"0 0 24 24\"\n",
              "       width=\"24px\">\n",
              "    <path d=\"M0 0h24v24H0V0z\" fill=\"none\"/>\n",
              "    <path d=\"M18.56 5.44l.94 2.06.94-2.06 2.06-.94-2.06-.94-.94-2.06-.94 2.06-2.06.94zm-11 1L8.5 8.5l.94-2.06 2.06-.94-2.06-.94L8.5 2.5l-.94 2.06-2.06.94zm10 10l.94 2.06.94-2.06 2.06-.94-2.06-.94-.94-2.06-.94 2.06-2.06.94z\"/><path d=\"M17.41 7.96l-1.37-1.37c-.4-.4-.92-.59-1.43-.59-.52 0-1.04.2-1.43.59L10.3 9.45l-7.72 7.72c-.78.78-.78 2.05 0 2.83L4 21.41c.39.39.9.59 1.41.59.51 0 1.02-.2 1.41-.59l7.78-7.78 2.81-2.81c.8-.78.8-2.07 0-2.86zM5.41 20L4 18.59l7.72-7.72 1.47 1.35L5.41 20z\"/>\n",
              "  </svg>\n",
              "      </button>\n",
              "      \n",
              "  <style>\n",
              "    .colab-df-container {\n",
              "      display:flex;\n",
              "      flex-wrap:wrap;\n",
              "      gap: 12px;\n",
              "    }\n",
              "\n",
              "    .colab-df-convert {\n",
              "      background-color: #E8F0FE;\n",
              "      border: none;\n",
              "      border-radius: 50%;\n",
              "      cursor: pointer;\n",
              "      display: none;\n",
              "      fill: #1967D2;\n",
              "      height: 32px;\n",
              "      padding: 0 0 0 0;\n",
              "      width: 32px;\n",
              "    }\n",
              "\n",
              "    .colab-df-convert:hover {\n",
              "      background-color: #E2EBFA;\n",
              "      box-shadow: 0px 1px 2px rgba(60, 64, 67, 0.3), 0px 1px 3px 1px rgba(60, 64, 67, 0.15);\n",
              "      fill: #174EA6;\n",
              "    }\n",
              "\n",
              "    [theme=dark] .colab-df-convert {\n",
              "      background-color: #3B4455;\n",
              "      fill: #D2E3FC;\n",
              "    }\n",
              "\n",
              "    [theme=dark] .colab-df-convert:hover {\n",
              "      background-color: #434B5C;\n",
              "      box-shadow: 0px 1px 3px 1px rgba(0, 0, 0, 0.15);\n",
              "      filter: drop-shadow(0px 1px 2px rgba(0, 0, 0, 0.3));\n",
              "      fill: #FFFFFF;\n",
              "    }\n",
              "  </style>\n",
              "\n",
              "      <script>\n",
              "        const buttonEl =\n",
              "          document.querySelector('#df-000f6900-77e4-4a01-ac73-3cc50505e380 button.colab-df-convert');\n",
              "        buttonEl.style.display =\n",
              "          google.colab.kernel.accessAllowed ? 'block' : 'none';\n",
              "\n",
              "        async function convertToInteractive(key) {\n",
              "          const element = document.querySelector('#df-000f6900-77e4-4a01-ac73-3cc50505e380');\n",
              "          const dataTable =\n",
              "            await google.colab.kernel.invokeFunction('convertToInteractive',\n",
              "                                                     [key], {});\n",
              "          if (!dataTable) return;\n",
              "\n",
              "          const docLinkHtml = 'Like what you see? Visit the ' +\n",
              "            '<a target=\"_blank\" href=https://colab.research.google.com/notebooks/data_table.ipynb>data table notebook</a>'\n",
              "            + ' to learn more about interactive tables.';\n",
              "          element.innerHTML = '';\n",
              "          dataTable['output_type'] = 'display_data';\n",
              "          await google.colab.output.renderOutput(dataTable, element);\n",
              "          const docLink = document.createElement('div');\n",
              "          docLink.innerHTML = docLinkHtml;\n",
              "          element.appendChild(docLink);\n",
              "        }\n",
              "      </script>\n",
              "    </div>\n",
              "  </div>\n",
              "  "
            ]
          },
          "metadata": {},
          "execution_count": 8
        }
      ]
    },
    {
      "cell_type": "code",
      "source": [
        "df_num = df.select_dtypes(include = ['float64', 'int64']).copy()\n",
        "# Dropping 'video_id' and 'release_year' from df_num\n",
        "df_num.drop(columns=['video_id', 'release_year'],axis=1, inplace=True)"
      ],
      "metadata": {
        "id": "K3XpMLkqF4vx"
      },
      "execution_count": null,
      "outputs": []
    },
    {
      "cell_type": "code",
      "source": [
        "# check on features that have 0 values\n",
        "df_num[['imdb_votes', 'imdb_rating', 'star_category', 'budget','metacritic_score','boxoffice']].describe(percentiles= [0.05,0.1,0.25, 0.5,0.75])"
      ],
      "metadata": {
        "colab": {
          "base_uri": "https://localhost:8080/",
          "height": 363
        },
        "id": "FOhpDT4t7kxC",
        "outputId": "a7f81647-6407-4a7f-91a3-408eadbf0e99"
      },
      "execution_count": null,
      "outputs": [
        {
          "output_type": "execute_result",
          "data": {
            "text/plain": [
              "          imdb_votes  imdb_rating  star_category        budget  \\\n",
              "count    4226.000000  4226.000000    4226.000000  4.226000e+03   \n",
              "mean     6462.924042     5.257099       0.954651  2.150743e+06   \n",
              "std     31596.006790     2.122810       0.955045  7.176604e+06   \n",
              "min         0.000000     0.000000       0.000000  0.000000e+00   \n",
              "5%          0.000000     0.000000       0.000000  0.000000e+00   \n",
              "10%         8.000000     2.300000       0.000000  0.000000e+00   \n",
              "25%        81.000000     4.300000       0.000000  0.000000e+00   \n",
              "50%       535.000000     5.800000       1.000000  0.000000e+00   \n",
              "75%      3053.000000     6.800000       1.666667  1.500000e+06   \n",
              "max    948630.000000    10.000000       4.000000  1.070000e+08   \n",
              "\n",
              "       metacritic_score     boxoffice  \n",
              "count       4226.000000  4.226000e+03  \n",
              "mean          15.973734  2.536338e+06  \n",
              "std           26.205217  8.243516e+06  \n",
              "min            0.000000  0.000000e+00  \n",
              "5%             0.000000  0.000000e+00  \n",
              "10%            0.000000  0.000000e+00  \n",
              "25%            0.000000  0.000000e+00  \n",
              "50%            0.000000  0.000000e+00  \n",
              "75%           41.000000  0.000000e+00  \n",
              "max          100.000000  1.842088e+08  "
            ],
            "text/html": [
              "\n",
              "  <div id=\"df-aab758b9-de55-40cd-9965-c3b04ef2635a\">\n",
              "    <div class=\"colab-df-container\">\n",
              "      <div>\n",
              "<style scoped>\n",
              "    .dataframe tbody tr th:only-of-type {\n",
              "        vertical-align: middle;\n",
              "    }\n",
              "\n",
              "    .dataframe tbody tr th {\n",
              "        vertical-align: top;\n",
              "    }\n",
              "\n",
              "    .dataframe thead th {\n",
              "        text-align: right;\n",
              "    }\n",
              "</style>\n",
              "<table border=\"1\" class=\"dataframe\">\n",
              "  <thead>\n",
              "    <tr style=\"text-align: right;\">\n",
              "      <th></th>\n",
              "      <th>imdb_votes</th>\n",
              "      <th>imdb_rating</th>\n",
              "      <th>star_category</th>\n",
              "      <th>budget</th>\n",
              "      <th>metacritic_score</th>\n",
              "      <th>boxoffice</th>\n",
              "    </tr>\n",
              "  </thead>\n",
              "  <tbody>\n",
              "    <tr>\n",
              "      <th>count</th>\n",
              "      <td>4226.000000</td>\n",
              "      <td>4226.000000</td>\n",
              "      <td>4226.000000</td>\n",
              "      <td>4.226000e+03</td>\n",
              "      <td>4226.000000</td>\n",
              "      <td>4.226000e+03</td>\n",
              "    </tr>\n",
              "    <tr>\n",
              "      <th>mean</th>\n",
              "      <td>6462.924042</td>\n",
              "      <td>5.257099</td>\n",
              "      <td>0.954651</td>\n",
              "      <td>2.150743e+06</td>\n",
              "      <td>15.973734</td>\n",
              "      <td>2.536338e+06</td>\n",
              "    </tr>\n",
              "    <tr>\n",
              "      <th>std</th>\n",
              "      <td>31596.006790</td>\n",
              "      <td>2.122810</td>\n",
              "      <td>0.955045</td>\n",
              "      <td>7.176604e+06</td>\n",
              "      <td>26.205217</td>\n",
              "      <td>8.243516e+06</td>\n",
              "    </tr>\n",
              "    <tr>\n",
              "      <th>min</th>\n",
              "      <td>0.000000</td>\n",
              "      <td>0.000000</td>\n",
              "      <td>0.000000</td>\n",
              "      <td>0.000000e+00</td>\n",
              "      <td>0.000000</td>\n",
              "      <td>0.000000e+00</td>\n",
              "    </tr>\n",
              "    <tr>\n",
              "      <th>5%</th>\n",
              "      <td>0.000000</td>\n",
              "      <td>0.000000</td>\n",
              "      <td>0.000000</td>\n",
              "      <td>0.000000e+00</td>\n",
              "      <td>0.000000</td>\n",
              "      <td>0.000000e+00</td>\n",
              "    </tr>\n",
              "    <tr>\n",
              "      <th>10%</th>\n",
              "      <td>8.000000</td>\n",
              "      <td>2.300000</td>\n",
              "      <td>0.000000</td>\n",
              "      <td>0.000000e+00</td>\n",
              "      <td>0.000000</td>\n",
              "      <td>0.000000e+00</td>\n",
              "    </tr>\n",
              "    <tr>\n",
              "      <th>25%</th>\n",
              "      <td>81.000000</td>\n",
              "      <td>4.300000</td>\n",
              "      <td>0.000000</td>\n",
              "      <td>0.000000e+00</td>\n",
              "      <td>0.000000</td>\n",
              "      <td>0.000000e+00</td>\n",
              "    </tr>\n",
              "    <tr>\n",
              "      <th>50%</th>\n",
              "      <td>535.000000</td>\n",
              "      <td>5.800000</td>\n",
              "      <td>1.000000</td>\n",
              "      <td>0.000000e+00</td>\n",
              "      <td>0.000000</td>\n",
              "      <td>0.000000e+00</td>\n",
              "    </tr>\n",
              "    <tr>\n",
              "      <th>75%</th>\n",
              "      <td>3053.000000</td>\n",
              "      <td>6.800000</td>\n",
              "      <td>1.666667</td>\n",
              "      <td>1.500000e+06</td>\n",
              "      <td>41.000000</td>\n",
              "      <td>0.000000e+00</td>\n",
              "    </tr>\n",
              "    <tr>\n",
              "      <th>max</th>\n",
              "      <td>948630.000000</td>\n",
              "      <td>10.000000</td>\n",
              "      <td>4.000000</td>\n",
              "      <td>1.070000e+08</td>\n",
              "      <td>100.000000</td>\n",
              "      <td>1.842088e+08</td>\n",
              "    </tr>\n",
              "  </tbody>\n",
              "</table>\n",
              "</div>\n",
              "      <button class=\"colab-df-convert\" onclick=\"convertToInteractive('df-aab758b9-de55-40cd-9965-c3b04ef2635a')\"\n",
              "              title=\"Convert this dataframe to an interactive table.\"\n",
              "              style=\"display:none;\">\n",
              "        \n",
              "  <svg xmlns=\"http://www.w3.org/2000/svg\" height=\"24px\"viewBox=\"0 0 24 24\"\n",
              "       width=\"24px\">\n",
              "    <path d=\"M0 0h24v24H0V0z\" fill=\"none\"/>\n",
              "    <path d=\"M18.56 5.44l.94 2.06.94-2.06 2.06-.94-2.06-.94-.94-2.06-.94 2.06-2.06.94zm-11 1L8.5 8.5l.94-2.06 2.06-.94-2.06-.94L8.5 2.5l-.94 2.06-2.06.94zm10 10l.94 2.06.94-2.06 2.06-.94-2.06-.94-.94-2.06-.94 2.06-2.06.94z\"/><path d=\"M17.41 7.96l-1.37-1.37c-.4-.4-.92-.59-1.43-.59-.52 0-1.04.2-1.43.59L10.3 9.45l-7.72 7.72c-.78.78-.78 2.05 0 2.83L4 21.41c.39.39.9.59 1.41.59.51 0 1.02-.2 1.41-.59l7.78-7.78 2.81-2.81c.8-.78.8-2.07 0-2.86zM5.41 20L4 18.59l7.72-7.72 1.47 1.35L5.41 20z\"/>\n",
              "  </svg>\n",
              "      </button>\n",
              "      \n",
              "  <style>\n",
              "    .colab-df-container {\n",
              "      display:flex;\n",
              "      flex-wrap:wrap;\n",
              "      gap: 12px;\n",
              "    }\n",
              "\n",
              "    .colab-df-convert {\n",
              "      background-color: #E8F0FE;\n",
              "      border: none;\n",
              "      border-radius: 50%;\n",
              "      cursor: pointer;\n",
              "      display: none;\n",
              "      fill: #1967D2;\n",
              "      height: 32px;\n",
              "      padding: 0 0 0 0;\n",
              "      width: 32px;\n",
              "    }\n",
              "\n",
              "    .colab-df-convert:hover {\n",
              "      background-color: #E2EBFA;\n",
              "      box-shadow: 0px 1px 2px rgba(60, 64, 67, 0.3), 0px 1px 3px 1px rgba(60, 64, 67, 0.15);\n",
              "      fill: #174EA6;\n",
              "    }\n",
              "\n",
              "    [theme=dark] .colab-df-convert {\n",
              "      background-color: #3B4455;\n",
              "      fill: #D2E3FC;\n",
              "    }\n",
              "\n",
              "    [theme=dark] .colab-df-convert:hover {\n",
              "      background-color: #434B5C;\n",
              "      box-shadow: 0px 1px 3px 1px rgba(0, 0, 0, 0.15);\n",
              "      filter: drop-shadow(0px 1px 2px rgba(0, 0, 0, 0.3));\n",
              "      fill: #FFFFFF;\n",
              "    }\n",
              "  </style>\n",
              "\n",
              "      <script>\n",
              "        const buttonEl =\n",
              "          document.querySelector('#df-aab758b9-de55-40cd-9965-c3b04ef2635a button.colab-df-convert');\n",
              "        buttonEl.style.display =\n",
              "          google.colab.kernel.accessAllowed ? 'block' : 'none';\n",
              "\n",
              "        async function convertToInteractive(key) {\n",
              "          const element = document.querySelector('#df-aab758b9-de55-40cd-9965-c3b04ef2635a');\n",
              "          const dataTable =\n",
              "            await google.colab.kernel.invokeFunction('convertToInteractive',\n",
              "                                                     [key], {});\n",
              "          if (!dataTable) return;\n",
              "\n",
              "          const docLinkHtml = 'Like what you see? Visit the ' +\n",
              "            '<a target=\"_blank\" href=https://colab.research.google.com/notebooks/data_table.ipynb>data table notebook</a>'\n",
              "            + ' to learn more about interactive tables.';\n",
              "          element.innerHTML = '';\n",
              "          dataTable['output_type'] = 'display_data';\n",
              "          await google.colab.output.renderOutput(dataTable, element);\n",
              "          const docLink = document.createElement('div');\n",
              "          docLink.innerHTML = docLinkHtml;\n",
              "          element.appendChild(docLink);\n",
              "        }\n",
              "      </script>\n",
              "    </div>\n",
              "  </div>\n",
              "  "
            ]
          },
          "metadata": {},
          "execution_count": 10
        }
      ]
    },
    {
      "cell_type": "markdown",
      "source": [
        "\n",
        "  - features have over 50% of missing values(shown as '0'): boxoffice\n",
        "  - features have over 50% of missing values: budget, metacritic_score\n",
        "  - features have over 25% of missing values: star_category\n",
        "  - features have less than 10% of missing values: imdb_rating, imdb_votes\n",
        "\n",
        "\n",
        "---\n",
        "\n",
        "\n",
        "\n",
        "---\n",
        "\n",
        "\n",
        "**Need to handle these 0 values**"
      ],
      "metadata": {
        "id": "TaHHaNFT5Rrw"
      }
    },
    {
      "cell_type": "code",
      "source": [
        "#df1 = df.copy()\n",
        "df_num[['imdb_votes', 'imdb_rating', 'star_category', 'budget','metacritic_score','boxoffice']] = df_num[['imdb_votes', 'imdb_rating', 'star_category', 'budget','metacritic_score','boxoffice']].replace(0,np.nan)"
      ],
      "metadata": {
        "id": "APCJ6rD3X2BN"
      },
      "execution_count": null,
      "outputs": []
    },
    {
      "cell_type": "code",
      "source": [
        "df_num.info()"
      ],
      "metadata": {
        "colab": {
          "base_uri": "https://localhost:8080/"
        },
        "id": "aiqGAEFlZ_fQ",
        "outputId": "de47daba-3490-4463-9a07-8c32f38c50b2"
      },
      "execution_count": null,
      "outputs": [
        {
          "output_type": "stream",
          "name": "stdout",
          "text": [
            "<class 'pandas.core.frame.DataFrame'>\n",
            "RangeIndex: 4226 entries, 0 to 4225\n",
            "Data columns (total 10 columns):\n",
            " #   Column                         Non-Null Count  Dtype  \n",
            "---  ------                         --------------  -----  \n",
            " 0   cvt_per_day                    4226 non-null   float64\n",
            " 1   weighted_categorical_position  4226 non-null   int64  \n",
            " 2   weighted_horizontal_poition    4226 non-null   int64  \n",
            " 3   imdb_votes                     3882 non-null   float64\n",
            " 4   budget                         1772 non-null   float64\n",
            " 5   boxoffice                      1032 non-null   float64\n",
            " 6   imdb_rating                    3882 non-null   float64\n",
            " 7   duration_in_mins               4226 non-null   float64\n",
            " 8   metacritic_score               1214 non-null   float64\n",
            " 9   star_category                  2380 non-null   float64\n",
            "dtypes: float64(8), int64(2)\n",
            "memory usage: 330.3 KB\n"
          ]
        }
      ]
    },
    {
      "cell_type": "code",
      "source": [
        "df_num.hist(figsize=(16, 12), bins=50, xlabelsize=8, ylabelsize=8);"
      ],
      "metadata": {
        "colab": {
          "base_uri": "https://localhost:8080/",
          "height": 670
        },
        "id": "SKC30NmrI1nj",
        "outputId": "15ce31c5-fa33-4b2f-8e3d-2c4c054175b5"
      },
      "execution_count": null,
      "outputs": [
        {
          "output_type": "display_data",
          "data": {
            "text/plain": [
              "<Figure size 1152x864 with 12 Axes>"
            ],
            "image/png": "[encoded data removed]"
          },
          "metadata": {
            "needs_background": "light"
          }
        }
      ]
    },
    {
      "cell_type": "markdown",
      "source": [
        "#### `cvt_per_day` feature:"
      ],
      "metadata": {
        "id": "JuhOFXpqEoj-"
      }
    },
    {
      "cell_type": "code",
      "source": [
        "df_num[['cvt_per_day']].describe(percentiles=[0.95])"
      ],
      "metadata": {
        "colab": {
          "base_uri": "https://localhost:8080/",
          "height": 269
        },
        "id": "YQYaf9O_E5O_",
        "outputId": "1ff2aabc-cac3-4c66-c994-37547a85b2dd"
      },
      "execution_count": null,
      "outputs": [
        {
          "output_type": "execute_result",
          "data": {
            "text/plain": [
              "         cvt_per_day\n",
              "count    4226.000000\n",
              "mean     4218.630239\n",
              "std     13036.079964\n",
              "min         2.187625\n",
              "50%      1193.499989\n",
              "95%     14692.833929\n",
              "max    307127.605608"
            ],
            "text/html": [
              "\n",
              "  <div id=\"df-518e1a46-06b8-4381-a838-d0ed7294b61a\">\n",
              "    <div class=\"colab-df-container\">\n",
              "      <div>\n",
              "<style scoped>\n",
              "    .dataframe tbody tr th:only-of-type {\n",
              "        vertical-align: middle;\n",
              "    }\n",
              "\n",
              "    .dataframe tbody tr th {\n",
              "        vertical-align: top;\n",
              "    }\n",
              "\n",
              "    .dataframe thead th {\n",
              "        text-align: right;\n",
              "    }\n",
              "</style>\n",
              "<table border=\"1\" class=\"dataframe\">\n",
              "  <thead>\n",
              "    <tr style=\"text-align: right;\">\n",
              "      <th></th>\n",
              "      <th>cvt_per_day</th>\n",
              "    </tr>\n",
              "  </thead>\n",
              "  <tbody>\n",
              "    <tr>\n",
              "      <th>count</th>\n",
              "      <td>4226.000000</td>\n",
              "    </tr>\n",
              "    <tr>\n",
              "      <th>mean</th>\n",
              "      <td>4218.630239</td>\n",
              "    </tr>\n",
              "    <tr>\n",
              "      <th>std</th>\n",
              "      <td>13036.079964</td>\n",
              "    </tr>\n",
              "    <tr>\n",
              "      <th>min</th>\n",
              "      <td>2.187625</td>\n",
              "    </tr>\n",
              "    <tr>\n",
              "      <th>50%</th>\n",
              "      <td>1193.499989</td>\n",
              "    </tr>\n",
              "    <tr>\n",
              "      <th>95%</th>\n",
              "      <td>14692.833929</td>\n",
              "    </tr>\n",
              "    <tr>\n",
              "      <th>max</th>\n",
              "      <td>307127.605608</td>\n",
              "    </tr>\n",
              "  </tbody>\n",
              "</table>\n",
              "</div>\n",
              "      <button class=\"colab-df-convert\" onclick=\"convertToInteractive('df-518e1a46-06b8-4381-a838-d0ed7294b61a')\"\n",
              "              title=\"Convert this dataframe to an interactive table.\"\n",
              "              style=\"display:none;\">\n",
              "        \n",
              "  <svg xmlns=\"http://www.w3.org/2000/svg\" height=\"24px\"viewBox=\"0 0 24 24\"\n",
              "       width=\"24px\">\n",
              "    <path d=\"M0 0h24v24H0V0z\" fill=\"none\"/>\n",
              "    <path d=\"M18.56 5.44l.94 2.06.94-2.06 2.06-.94-2.06-.94-.94-2.06-.94 2.06-2.06.94zm-11 1L8.5 8.5l.94-2.06 2.06-.94-2.06-.94L8.5 2.5l-.94 2.06-2.06.94zm10 10l.94 2.06.94-2.06 2.06-.94-2.06-.94-.94-2.06-.94 2.06-2.06.94z\"/><path d=\"M17.41 7.96l-1.37-1.37c-.4-.4-.92-.59-1.43-.59-.52 0-1.04.2-1.43.59L10.3 9.45l-7.72 7.72c-.78.78-.78 2.05 0 2.83L4 21.41c.39.39.9.59 1.41.59.51 0 1.02-.2 1.41-.59l7.78-7.78 2.81-2.81c.8-.78.8-2.07 0-2.86zM5.41 20L4 18.59l7.72-7.72 1.47 1.35L5.41 20z\"/>\n",
              "  </svg>\n",
              "      </button>\n",
              "      \n",
              "  <style>\n",
              "    .colab-df-container {\n",
              "      display:flex;\n",
              "      flex-wrap:wrap;\n",
              "      gap: 12px;\n",
              "    }\n",
              "\n",
              "    .colab-df-convert {\n",
              "      background-color: #E8F0FE;\n",
              "      border: none;\n",
              "      border-radius: 50%;\n",
              "      cursor: pointer;\n",
              "      display: none;\n",
              "      fill: #1967D2;\n",
              "      height: 32px;\n",
              "      padding: 0 0 0 0;\n",
              "      width: 32px;\n",
              "    }\n",
              "\n",
              "    .colab-df-convert:hover {\n",
              "      background-color: #E2EBFA;\n",
              "      box-shadow: 0px 1px 2px rgba(60, 64, 67, 0.3), 0px 1px 3px 1px rgba(60, 64, 67, 0.15);\n",
              "      fill: #174EA6;\n",
              "    }\n",
              "\n",
              "    [theme=dark] .colab-df-convert {\n",
              "      background-color: #3B4455;\n",
              "      fill: #D2E3FC;\n",
              "    }\n",
              "\n",
              "    [theme=dark] .colab-df-convert:hover {\n",
              "      background-color: #434B5C;\n",
              "      box-shadow: 0px 1px 3px 1px rgba(0, 0, 0, 0.15);\n",
              "      filter: drop-shadow(0px 1px 2px rgba(0, 0, 0, 0.3));\n",
              "      fill: #FFFFFF;\n",
              "    }\n",
              "  </style>\n",
              "\n",
              "      <script>\n",
              "        const buttonEl =\n",
              "          document.querySelector('#df-518e1a46-06b8-4381-a838-d0ed7294b61a button.colab-df-convert');\n",
              "        buttonEl.style.display =\n",
              "          google.colab.kernel.accessAllowed ? 'block' : 'none';\n",
              "\n",
              "        async function convertToInteractive(key) {\n",
              "          const element = document.querySelector('#df-518e1a46-06b8-4381-a838-d0ed7294b61a');\n",
              "          const dataTable =\n",
              "            await google.colab.kernel.invokeFunction('convertToInteractive',\n",
              "                                                     [key], {});\n",
              "          if (!dataTable) return;\n",
              "\n",
              "          const docLinkHtml = 'Like what you see? Visit the ' +\n",
              "            '<a target=\"_blank\" href=https://colab.research.google.com/notebooks/data_table.ipynb>data table notebook</a>'\n",
              "            + ' to learn more about interactive tables.';\n",
              "          element.innerHTML = '';\n",
              "          dataTable['output_type'] = 'display_data';\n",
              "          await google.colab.output.renderOutput(dataTable, element);\n",
              "          const docLink = document.createElement('div');\n",
              "          docLink.innerHTML = docLinkHtml;\n",
              "          element.appendChild(docLink);\n",
              "        }\n",
              "      </script>\n",
              "    </div>\n",
              "  </div>\n",
              "  "
            ]
          },
          "metadata": {},
          "execution_count": 14
        }
      ]
    },
    {
      "cell_type": "markdown",
      "source": [
        "Only plot `cvt_per_day` less than 15000(removing top 5% values to have a closer look on the distribution of this feature."
      ],
      "metadata": {
        "id": "jAUTIiHLGeI5"
      }
    },
    {
      "cell_type": "code",
      "source": [
        "fig1 = plt.figure(figsize = (16,5))\n",
        "plt.hist(df_num['cvt_per_day'], bins = range(0, 15000,20), alpha = 0.7, density= True, label = 'cvt_per_day')\n",
        "plt.title('Histogram of cvt_per_day(95% data)');"
      ],
      "metadata": {
        "colab": {
          "base_uri": "https://localhost:8080/",
          "height": 311
        },
        "id": "hNdDcIdN3yyO",
        "outputId": "db24a5fc-df21-41bf-dbea-ddf214a35d77"
      },
      "execution_count": null,
      "outputs": [
        {
          "output_type": "display_data",
          "data": {
            "text/plain": [
              "<Figure size 1152x360 with 1 Axes>"
            ],
            "image/png": "[encoded data removed]"
          },
          "metadata": {
            "needs_background": "light"
          }
        }
      ]
    },
    {
      "cell_type": "markdown",
      "source": [
        "#### Correlations among numerical features:"
      ],
      "metadata": {
        "id": "NFxJJ0RPItg2"
      }
    },
    {
      "cell_type": "code",
      "source": [
        "corr = df_num.corr()\n",
        "corr"
      ],
      "metadata": {
        "colab": {
          "base_uri": "https://localhost:8080/",
          "height": 427
        },
        "id": "m0lNaM9RJhqF",
        "outputId": "7c6cf046-c5f8-47f5-fc6e-34a69a289eb8"
      },
      "execution_count": null,
      "outputs": [
        {
          "output_type": "execute_result",
          "data": {
            "text/plain": [
              "                               cvt_per_day  weighted_categorical_position  \\\n",
              "cvt_per_day                       1.000000                      -0.148000   \n",
              "weighted_categorical_position    -0.148000                       1.000000   \n",
              "weighted_horizontal_poition      -0.301663                      -0.084066   \n",
              "imdb_votes                        0.298679                      -0.056056   \n",
              "budget                            0.267897                      -0.107294   \n",
              "boxoffice                         0.180123                      -0.132293   \n",
              "imdb_rating                       0.023010                       0.157480   \n",
              "duration_in_mins                  0.152217                      -0.174461   \n",
              "metacritic_score                 -0.075387                       0.164215   \n",
              "star_category                     0.140734                      -0.027339   \n",
              "\n",
              "                               weighted_horizontal_poition  imdb_votes  \\\n",
              "cvt_per_day                                      -0.301663    0.298679   \n",
              "weighted_categorical_position                    -0.084066   -0.056056   \n",
              "weighted_horizontal_poition                       1.000000   -0.230089   \n",
              "imdb_votes                                       -0.230089    1.000000   \n",
              "budget                                           -0.240842    0.212695   \n",
              "boxoffice                                        -0.210672    0.447187   \n",
              "imdb_rating                                      -0.252049    0.175532   \n",
              "duration_in_mins                                 -0.102344    0.158981   \n",
              "metacritic_score                                 -0.036440    0.158806   \n",
              "star_category                                    -0.128852    0.173412   \n",
              "\n",
              "                                 budget  boxoffice  imdb_rating  \\\n",
              "cvt_per_day                    0.267897   0.180123     0.023010   \n",
              "weighted_categorical_position -0.107294  -0.132293     0.157480   \n",
              "weighted_horizontal_poition   -0.240842  -0.210672    -0.252049   \n",
              "imdb_votes                     0.212695   0.447187     0.175532   \n",
              "budget                         1.000000   0.366883     0.070170   \n",
              "boxoffice                      0.366883   1.000000     0.044701   \n",
              "imdb_rating                    0.070170   0.044701     1.000000   \n",
              "duration_in_mins               0.288369   0.147069     0.134506   \n",
              "metacritic_score              -0.177661   0.048648     0.464296   \n",
              "star_category                  0.295011   0.143907     0.233831   \n",
              "\n",
              "                               duration_in_mins  metacritic_score  \\\n",
              "cvt_per_day                            0.152217         -0.075387   \n",
              "weighted_categorical_position         -0.174461          0.164215   \n",
              "weighted_horizontal_poition           -0.102344         -0.036440   \n",
              "imdb_votes                             0.158981          0.158806   \n",
              "budget                                 0.288369         -0.177661   \n",
              "boxoffice                              0.147069          0.048648   \n",
              "imdb_rating                            0.134506          0.464296   \n",
              "duration_in_mins                       1.000000          0.080042   \n",
              "metacritic_score                       0.080042          1.000000   \n",
              "star_category                          0.144910          0.016152   \n",
              "\n",
              "                               star_category  \n",
              "cvt_per_day                         0.140734  \n",
              "weighted_categorical_position      -0.027339  \n",
              "weighted_horizontal_poition        -0.128852  \n",
              "imdb_votes                          0.173412  \n",
              "budget                              0.295011  \n",
              "boxoffice                           0.143907  \n",
              "imdb_rating                         0.233831  \n",
              "duration_in_mins                    0.144910  \n",
              "metacritic_score                    0.016152  \n",
              "star_category                       1.000000  "
            ],
            "text/html": [
              "\n",
              "  <div id=\"df-361fcb9b-9e87-40ba-bfbd-426a40dfc56f\">\n",
              "    <div class=\"colab-df-container\">\n",
              "      <div>\n",
              "<style scoped>\n",
              "    .dataframe tbody tr th:only-of-type {\n",
              "        vertical-align: middle;\n",
              "    }\n",
              "\n",
              "    .dataframe tbody tr th {\n",
              "        vertical-align: top;\n",
              "    }\n",
              "\n",
              "    .dataframe thead th {\n",
              "        text-align: right;\n",
              "    }\n",
              "</style>\n",
              "<table border=\"1\" class=\"dataframe\">\n",
              "  <thead>\n",
              "    <tr style=\"text-align: right;\">\n",
              "      <th></th>\n",
              "      <th>cvt_per_day</th>\n",
              "      <th>weighted_categorical_position</th>\n",
              "      <th>weighted_horizontal_poition</th>\n",
              "      <th>imdb_votes</th>\n",
              "      <th>budget</th>\n",
              "      <th>boxoffice</th>\n",
              "      <th>imdb_rating</th>\n",
              "      <th>duration_in_mins</th>\n",
              "      <th>metacritic_score</th>\n",
              "      <th>star_category</th>\n",
              "    </tr>\n",
              "  </thead>\n",
              "  <tbody>\n",
              "    <tr>\n",
              "      <th>cvt_per_day</th>\n",
              "      <td>1.000000</td>\n",
              "      <td>-0.148000</td>\n",
              "      <td>-0.301663</td>\n",
              "      <td>0.298679</td>\n",
              "      <td>0.267897</td>\n",
              "      <td>0.180123</td>\n",
              "      <td>0.023010</td>\n",
              "      <td>0.152217</td>\n",
              "      <td>-0.075387</td>\n",
              "      <td>0.140734</td>\n",
              "    </tr>\n",
              "    <tr>\n",
              "      <th>weighted_categorical_position</th>\n",
              "      <td>-0.148000</td>\n",
              "      <td>1.000000</td>\n",
              "      <td>-0.084066</td>\n",
              "      <td>-0.056056</td>\n",
              "      <td>-0.107294</td>\n",
              "      <td>-0.132293</td>\n",
              "      <td>0.157480</td>\n",
              "      <td>-0.174461</td>\n",
              "      <td>0.164215</td>\n",
              "      <td>-0.027339</td>\n",
              "    </tr>\n",
              "    <tr>\n",
              "      <th>weighted_horizontal_poition</th>\n",
              "      <td>-0.301663</td>\n",
              "      <td>-0.084066</td>\n",
              "      <td>1.000000</td>\n",
              "      <td>-0.230089</td>\n",
              "      <td>-0.240842</td>\n",
              "      <td>-0.210672</td>\n",
              "      <td>-0.252049</td>\n",
              "      <td>-0.102344</td>\n",
              "      <td>-0.036440</td>\n",
              "      <td>-0.128852</td>\n",
              "    </tr>\n",
              "    <tr>\n",
              "      <th>imdb_votes</th>\n",
              "      <td>0.298679</td>\n",
              "      <td>-0.056056</td>\n",
              "      <td>-0.230089</td>\n",
              "      <td>1.000000</td>\n",
              "      <td>0.212695</td>\n",
              "      <td>0.447187</td>\n",
              "      <td>0.175532</td>\n",
              "      <td>0.158981</td>\n",
              "      <td>0.158806</td>\n",
              "      <td>0.173412</td>\n",
              "    </tr>\n",
              "    <tr>\n",
              "      <th>budget</th>\n",
              "      <td>0.267897</td>\n",
              "      <td>-0.107294</td>\n",
              "      <td>-0.240842</td>\n",
              "      <td>0.212695</td>\n",
              "      <td>1.000000</td>\n",
              "      <td>0.366883</td>\n",
              "      <td>0.070170</td>\n",
              "      <td>0.288369</td>\n",
              "      <td>-0.177661</td>\n",
              "      <td>0.295011</td>\n",
              "    </tr>\n",
              "    <tr>\n",
              "      <th>boxoffice</th>\n",
              "      <td>0.180123</td>\n",
              "      <td>-0.132293</td>\n",
              "      <td>-0.210672</td>\n",
              "      <td>0.447187</td>\n",
              "      <td>0.366883</td>\n",
              "      <td>1.000000</td>\n",
              "      <td>0.044701</td>\n",
              "      <td>0.147069</td>\n",
              "      <td>0.048648</td>\n",
              "      <td>0.143907</td>\n",
              "    </tr>\n",
              "    <tr>\n",
              "      <th>imdb_rating</th>\n",
              "      <td>0.023010</td>\n",
              "      <td>0.157480</td>\n",
              "      <td>-0.252049</td>\n",
              "      <td>0.175532</td>\n",
              "      <td>0.070170</td>\n",
              "      <td>0.044701</td>\n",
              "      <td>1.000000</td>\n",
              "      <td>0.134506</td>\n",
              "      <td>0.464296</td>\n",
              "      <td>0.233831</td>\n",
              "    </tr>\n",
              "    <tr>\n",
              "      <th>duration_in_mins</th>\n",
              "      <td>0.152217</td>\n",
              "      <td>-0.174461</td>\n",
              "      <td>-0.102344</td>\n",
              "      <td>0.158981</td>\n",
              "      <td>0.288369</td>\n",
              "      <td>0.147069</td>\n",
              "      <td>0.134506</td>\n",
              "      <td>1.000000</td>\n",
              "      <td>0.080042</td>\n",
              "      <td>0.144910</td>\n",
              "    </tr>\n",
              "    <tr>\n",
              "      <th>metacritic_score</th>\n",
              "      <td>-0.075387</td>\n",
              "      <td>0.164215</td>\n",
              "      <td>-0.036440</td>\n",
              "      <td>0.158806</td>\n",
              "      <td>-0.177661</td>\n",
              "      <td>0.048648</td>\n",
              "      <td>0.464296</td>\n",
              "      <td>0.080042</td>\n",
              "      <td>1.000000</td>\n",
              "      <td>0.016152</td>\n",
              "    </tr>\n",
              "    <tr>\n",
              "      <th>star_category</th>\n",
              "      <td>0.140734</td>\n",
              "      <td>-0.027339</td>\n",
              "      <td>-0.128852</td>\n",
              "      <td>0.173412</td>\n",
              "      <td>0.295011</td>\n",
              "      <td>0.143907</td>\n",
              "      <td>0.233831</td>\n",
              "      <td>0.144910</td>\n",
              "      <td>0.016152</td>\n",
              "      <td>1.000000</td>\n",
              "    </tr>\n",
              "  </tbody>\n",
              "</table>\n",
              "</div>\n",
              "      <button class=\"colab-df-convert\" onclick=\"convertToInteractive('df-361fcb9b-9e87-40ba-bfbd-426a40dfc56f')\"\n",
              "              title=\"Convert this dataframe to an interactive table.\"\n",
              "              style=\"display:none;\">\n",
              "        \n",
              "  <svg xmlns=\"http://www.w3.org/2000/svg\" height=\"24px\"viewBox=\"0 0 24 24\"\n",
              "       width=\"24px\">\n",
              "    <path d=\"M0 0h24v24H0V0z\" fill=\"none\"/>\n",
              "    <path d=\"M18.56 5.44l.94 2.06.94-2.06 2.06-.94-2.06-.94-.94-2.06-.94 2.06-2.06.94zm-11 1L8.5 8.5l.94-2.06 2.06-.94-2.06-.94L8.5 2.5l-.94 2.06-2.06.94zm10 10l.94 2.06.94-2.06 2.06-.94-2.06-.94-.94-2.06-.94 2.06-2.06.94z\"/><path d=\"M17.41 7.96l-1.37-1.37c-.4-.4-.92-.59-1.43-.59-.52 0-1.04.2-1.43.59L10.3 9.45l-7.72 7.72c-.78.78-.78 2.05 0 2.83L4 21.41c.39.39.9.59 1.41.59.51 0 1.02-.2 1.41-.59l7.78-7.78 2.81-2.81c.8-.78.8-2.07 0-2.86zM5.41 20L4 18.59l7.72-7.72 1.47 1.35L5.41 20z\"/>\n",
              "  </svg>\n",
              "      </button>\n",
              "      \n",
              "  <style>\n",
              "    .colab-df-container {\n",
              "      display:flex;\n",
              "      flex-wrap:wrap;\n",
              "      gap: 12px;\n",
              "    }\n",
              "\n",
              "    .colab-df-convert {\n",
              "      background-color: #E8F0FE;\n",
              "      border: none;\n",
              "      border-radius: 50%;\n",
              "      cursor: pointer;\n",
              "      display: none;\n",
              "      fill: #1967D2;\n",
              "      height: 32px;\n",
              "      padding: 0 0 0 0;\n",
              "      width: 32px;\n",
              "    }\n",
              "\n",
              "    .colab-df-convert:hover {\n",
              "      background-color: #E2EBFA;\n",
              "      box-shadow: 0px 1px 2px rgba(60, 64, 67, 0.3), 0px 1px 3px 1px rgba(60, 64, 67, 0.15);\n",
              "      fill: #174EA6;\n",
              "    }\n",
              "\n",
              "    [theme=dark] .colab-df-convert {\n",
              "      background-color: #3B4455;\n",
              "      fill: #D2E3FC;\n",
              "    }\n",
              "\n",
              "    [theme=dark] .colab-df-convert:hover {\n",
              "      background-color: #434B5C;\n",
              "      box-shadow: 0px 1px 3px 1px rgba(0, 0, 0, 0.15);\n",
              "      filter: drop-shadow(0px 1px 2px rgba(0, 0, 0, 0.3));\n",
              "      fill: #FFFFFF;\n",
              "    }\n",
              "  </style>\n",
              "\n",
              "      <script>\n",
              "        const buttonEl =\n",
              "          document.querySelector('#df-361fcb9b-9e87-40ba-bfbd-426a40dfc56f button.colab-df-convert');\n",
              "        buttonEl.style.display =\n",
              "          google.colab.kernel.accessAllowed ? 'block' : 'none';\n",
              "\n",
              "        async function convertToInteractive(key) {\n",
              "          const element = document.querySelector('#df-361fcb9b-9e87-40ba-bfbd-426a40dfc56f');\n",
              "          const dataTable =\n",
              "            await google.colab.kernel.invokeFunction('convertToInteractive',\n",
              "                                                     [key], {});\n",
              "          if (!dataTable) return;\n",
              "\n",
              "          const docLinkHtml = 'Like what you see? Visit the ' +\n",
              "            '<a target=\"_blank\" href=https://colab.research.google.com/notebooks/data_table.ipynb>data table notebook</a>'\n",
              "            + ' to learn more about interactive tables.';\n",
              "          element.innerHTML = '';\n",
              "          dataTable['output_type'] = 'display_data';\n",
              "          await google.colab.output.renderOutput(dataTable, element);\n",
              "          const docLink = document.createElement('div');\n",
              "          docLink.innerHTML = docLinkHtml;\n",
              "          element.appendChild(docLink);\n",
              "        }\n",
              "      </script>\n",
              "    </div>\n",
              "  </div>\n",
              "  "
            ]
          },
          "metadata": {},
          "execution_count": 16
        }
      ]
    },
    {
      "cell_type": "code",
      "source": [
        "sns.heatmap(corr, cmap='PRGn_r', vmax=1,vmin=-1, square=True);"
      ],
      "metadata": {
        "colab": {
          "base_uri": "https://localhost:8080/",
          "height": 411
        },
        "id": "DBLf8DpxNsPA",
        "outputId": "72b910f2-7433-4bc5-dc35-feb2051d9ed7"
      },
      "execution_count": null,
      "outputs": [
        {
          "output_type": "display_data",
          "data": {
            "text/plain": [
              "<Figure size 432x288 with 2 Axes>"
            ],
            "image/png": "[encoded data removed]"
          },
          "metadata": {
            "needs_background": "light"
          }
        }
      ]
    },
    {
      "cell_type": "code",
      "source": [
        "sns.heatmap(corr[(corr >= 0.4) | (corr <= -0.4)], \n",
        "            cmap='PRGn_r', vmax=1.0, vmin=-1.0, linewidths=0.1,\n",
        "            annot=True, annot_kws={\"size\": 8}, square=True);"
      ],
      "metadata": {
        "colab": {
          "base_uri": "https://localhost:8080/",
          "height": 411
        },
        "id": "3KXlW20kRhP3",
        "outputId": "6a6795ea-2f8e-461b-923a-742d801a09bc"
      },
      "execution_count": null,
      "outputs": [
        {
          "output_type": "display_data",
          "data": {
            "text/plain": [
              "<Figure size 432x288 with 2 Axes>"
            ],
            "image/png": "[encoded data removed]"
          },
          "metadata": {
            "needs_background": "light"
          }
        }
      ]
    },
    {
      "cell_type": "markdown",
      "source": [
        "## Part 1.3: Categorical features"
      ],
      "metadata": {
        "id": "kaykRbdoQ28d"
      }
    },
    {
      "cell_type": "code",
      "source": [
        "# Statistics on non-numerical features\n",
        "df.describe(include=['object'])"
      ],
      "metadata": {
        "colab": {
          "base_uri": "https://localhost:8080/",
          "height": 175
        },
        "id": "6IAqCtD9xAlo",
        "outputId": "c1c79264-708a-480e-d13c-0995f9ac7f83"
      },
      "execution_count": null,
      "outputs": [
        {
          "output_type": "execute_result",
          "data": {
            "text/plain": [
              "       import_id       genres    awards      mpaa\n",
              "count       4226         4226      4226      4226\n",
              "unique         4         1165         5         6\n",
              "top        other  Documentary  no award  NotRated\n",
              "freq        2963          269      2569      2158"
            ],
            "text/html": [
              "\n",
              "  <div id=\"df-579c2477-0fe6-4daf-bcc6-33b0de893d06\">\n",
              "    <div class=\"colab-df-container\">\n",
              "      <div>\n",
              "<style scoped>\n",
              "    .dataframe tbody tr th:only-of-type {\n",
              "        vertical-align: middle;\n",
              "    }\n",
              "\n",
              "    .dataframe tbody tr th {\n",
              "        vertical-align: top;\n",
              "    }\n",
              "\n",
              "    .dataframe thead th {\n",
              "        text-align: right;\n",
              "    }\n",
              "</style>\n",
              "<table border=\"1\" class=\"dataframe\">\n",
              "  <thead>\n",
              "    <tr style=\"text-align: right;\">\n",
              "      <th></th>\n",
              "      <th>import_id</th>\n",
              "      <th>genres</th>\n",
              "      <th>awards</th>\n",
              "      <th>mpaa</th>\n",
              "    </tr>\n",
              "  </thead>\n",
              "  <tbody>\n",
              "    <tr>\n",
              "      <th>count</th>\n",
              "      <td>4226</td>\n",
              "      <td>4226</td>\n",
              "      <td>4226</td>\n",
              "      <td>4226</td>\n",
              "    </tr>\n",
              "    <tr>\n",
              "      <th>unique</th>\n",
              "      <td>4</td>\n",
              "      <td>1165</td>\n",
              "      <td>5</td>\n",
              "      <td>6</td>\n",
              "    </tr>\n",
              "    <tr>\n",
              "      <th>top</th>\n",
              "      <td>other</td>\n",
              "      <td>Documentary</td>\n",
              "      <td>no award</td>\n",
              "      <td>NotRated</td>\n",
              "    </tr>\n",
              "    <tr>\n",
              "      <th>freq</th>\n",
              "      <td>2963</td>\n",
              "      <td>269</td>\n",
              "      <td>2569</td>\n",
              "      <td>2158</td>\n",
              "    </tr>\n",
              "  </tbody>\n",
              "</table>\n",
              "</div>\n",
              "      <button class=\"colab-df-convert\" onclick=\"convertToInteractive('df-579c2477-0fe6-4daf-bcc6-33b0de893d06')\"\n",
              "              title=\"Convert this dataframe to an interactive table.\"\n",
              "              style=\"display:none;\">\n",
              "        \n",
              "  <svg xmlns=\"http://www.w3.org/2000/svg\" height=\"24px\"viewBox=\"0 0 24 24\"\n",
              "       width=\"24px\">\n",
              "    <path d=\"M0 0h24v24H0V0z\" fill=\"none\"/>\n",
              "    <path d=\"M18.56 5.44l.94 2.06.94-2.06 2.06-.94-2.06-.94-.94-2.06-.94 2.06-2.06.94zm-11 1L8.5 8.5l.94-2.06 2.06-.94-2.06-.94L8.5 2.5l-.94 2.06-2.06.94zm10 10l.94 2.06.94-2.06 2.06-.94-2.06-.94-.94-2.06-.94 2.06-2.06.94z\"/><path d=\"M17.41 7.96l-1.37-1.37c-.4-.4-.92-.59-1.43-.59-.52 0-1.04.2-1.43.59L10.3 9.45l-7.72 7.72c-.78.78-.78 2.05 0 2.83L4 21.41c.39.39.9.59 1.41.59.51 0 1.02-.2 1.41-.59l7.78-7.78 2.81-2.81c.8-.78.8-2.07 0-2.86zM5.41 20L4 18.59l7.72-7.72 1.47 1.35L5.41 20z\"/>\n",
              "  </svg>\n",
              "      </button>\n",
              "      \n",
              "  <style>\n",
              "    .colab-df-container {\n",
              "      display:flex;\n",
              "      flex-wrap:wrap;\n",
              "      gap: 12px;\n",
              "    }\n",
              "\n",
              "    .colab-df-convert {\n",
              "      background-color: #E8F0FE;\n",
              "      border: none;\n",
              "      border-radius: 50%;\n",
              "      cursor: pointer;\n",
              "      display: none;\n",
              "      fill: #1967D2;\n",
              "      height: 32px;\n",
              "      padding: 0 0 0 0;\n",
              "      width: 32px;\n",
              "    }\n",
              "\n",
              "    .colab-df-convert:hover {\n",
              "      background-color: #E2EBFA;\n",
              "      box-shadow: 0px 1px 2px rgba(60, 64, 67, 0.3), 0px 1px 3px 1px rgba(60, 64, 67, 0.15);\n",
              "      fill: #174EA6;\n",
              "    }\n",
              "\n",
              "    [theme=dark] .colab-df-convert {\n",
              "      background-color: #3B4455;\n",
              "      fill: #D2E3FC;\n",
              "    }\n",
              "\n",
              "    [theme=dark] .colab-df-convert:hover {\n",
              "      background-color: #434B5C;\n",
              "      box-shadow: 0px 1px 3px 1px rgba(0, 0, 0, 0.15);\n",
              "      filter: drop-shadow(0px 1px 2px rgba(0, 0, 0, 0.3));\n",
              "      fill: #FFFFFF;\n",
              "    }\n",
              "  </style>\n",
              "\n",
              "      <script>\n",
              "        const buttonEl =\n",
              "          document.querySelector('#df-579c2477-0fe6-4daf-bcc6-33b0de893d06 button.colab-df-convert');\n",
              "        buttonEl.style.display =\n",
              "          google.colab.kernel.accessAllowed ? 'block' : 'none';\n",
              "\n",
              "        async function convertToInteractive(key) {\n",
              "          const element = document.querySelector('#df-579c2477-0fe6-4daf-bcc6-33b0de893d06');\n",
              "          const dataTable =\n",
              "            await google.colab.kernel.invokeFunction('convertToInteractive',\n",
              "                                                     [key], {});\n",
              "          if (!dataTable) return;\n",
              "\n",
              "          const docLinkHtml = 'Like what you see? Visit the ' +\n",
              "            '<a target=\"_blank\" href=https://colab.research.google.com/notebooks/data_table.ipynb>data table notebook</a>'\n",
              "            + ' to learn more about interactive tables.';\n",
              "          element.innerHTML = '';\n",
              "          dataTable['output_type'] = 'display_data';\n",
              "          await google.colab.output.renderOutput(dataTable, element);\n",
              "          const docLink = document.createElement('div');\n",
              "          docLink.innerHTML = docLinkHtml;\n",
              "          element.appendChild(docLink);\n",
              "        }\n",
              "      </script>\n",
              "    </div>\n",
              "  </div>\n",
              "  "
            ]
          },
          "metadata": {},
          "execution_count": 19
        }
      ]
    },
    {
      "cell_type": "markdown",
      "source": [
        "#### `'import_id'`:"
      ],
      "metadata": {
        "id": "lVc_UrVsfhTl"
      }
    },
    {
      "cell_type": "code",
      "source": [
        "df['import_id'].value_counts()"
      ],
      "metadata": {
        "colab": {
          "base_uri": "https://localhost:8080/"
        },
        "id": "vZxkUo4lPzUq",
        "outputId": "3713eafe-226e-4627-af32-74170743f110"
      },
      "execution_count": null,
      "outputs": [
        {
          "output_type": "execute_result",
          "data": {
            "text/plain": [
              "other        2963\n",
              "lionsgate     677\n",
              "mgm           445\n",
              "paramount     141\n",
              "Name: import_id, dtype: int64"
            ]
          },
          "metadata": {},
          "execution_count": 20
        }
      ]
    },
    {
      "cell_type": "code",
      "source": [
        "sns.stripplot(x = 'import_id', y = 'cvt_per_day', data = df,jitter=True, size = 4);"
      ],
      "metadata": {
        "colab": {
          "base_uri": "https://localhost:8080/",
          "height": 280
        },
        "id": "LUgEbezkfzA2",
        "outputId": "8caac122-148c-444a-af55-8176ac9940b0"
      },
      "execution_count": null,
      "outputs": [
        {
          "output_type": "display_data",
          "data": {
            "text/plain": [
              "<Figure size 432x288 with 1 Axes>"
            ],
            "image/png": "[encoded data removed]"
          },
          "metadata": {
            "needs_background": "light"
          }
        }
      ]
    },
    {
      "cell_type": "markdown",
      "source": [
        "#### `'awards'` :"
      ],
      "metadata": {
        "id": "evqdS6tYg3M7"
      }
    },
    {
      "cell_type": "code",
      "source": [
        "df['awards'].value_counts()"
      ],
      "metadata": {
        "colab": {
          "base_uri": "https://localhost:8080/"
        },
        "id": "AjHa5geugQiO",
        "outputId": "e72cb744-3fce-4371-ea79-c76ee7c61469"
      },
      "execution_count": null,
      "outputs": [
        {
          "output_type": "execute_result",
          "data": {
            "text/plain": [
              "no award        2569\n",
              "other award     1453\n",
              "Oscar            141\n",
              "Golden Globe      44\n",
              "BAFTA             19\n",
              "Name: awards, dtype: int64"
            ]
          },
          "metadata": {},
          "execution_count": 22
        }
      ]
    },
    {
      "cell_type": "code",
      "source": [
        "sns.stripplot(x = 'awards', y = 'cvt_per_day', data = df, jitter =True, size = 4);"
      ],
      "metadata": {
        "colab": {
          "base_uri": "https://localhost:8080/",
          "height": 279
        },
        "id": "Khv7y_HghQ2c",
        "outputId": "83d47f93-a326-4a46-c2dd-4ca92f13fe90"
      },
      "execution_count": null,
      "outputs": [
        {
          "output_type": "display_data",
          "data": {
            "text/plain": [
              "<Figure size 432x288 with 1 Axes>"
            ],
            "image/png": "[encoded data removed]"
          },
          "metadata": {
            "needs_background": "light"
          }
        }
      ]
    },
    {
      "cell_type": "markdown",
      "source": [
        "#### `'mpaa'`:"
      ],
      "metadata": {
        "id": "DvPwHfTshhn6"
      }
    },
    {
      "cell_type": "code",
      "source": [
        "df['mpaa'].value_counts()"
      ],
      "metadata": {
        "colab": {
          "base_uri": "https://localhost:8080/"
        },
        "id": "SmtCcXBehZkx",
        "outputId": "55195981-38b2-42d3-b490-f553e92111bc"
      },
      "execution_count": null,
      "outputs": [
        {
          "output_type": "execute_result",
          "data": {
            "text/plain": [
              "NotRated    2158\n",
              "R           1158\n",
              "PG-13        426\n",
              "PG           353\n",
              "G            125\n",
              "NC-17          6\n",
              "Name: mpaa, dtype: int64"
            ]
          },
          "metadata": {},
          "execution_count": 24
        }
      ]
    },
    {
      "cell_type": "code",
      "source": [
        "sns.stripplot(x = 'mpaa', y= 'cvt_per_day', data = df, jitter = True, size =4)"
      ],
      "metadata": {
        "colab": {
          "base_uri": "https://localhost:8080/",
          "height": 296
        },
        "id": "mU8YavwhhrUn",
        "outputId": "5fb0325a-7fc0-42fe-94c3-0eb9d0a8298c"
      },
      "execution_count": null,
      "outputs": [
        {
          "output_type": "execute_result",
          "data": {
            "text/plain": [
              "<matplotlib.axes._subplots.AxesSubplot at 0x7f4cab4420d0>"
            ]
          },
          "metadata": {},
          "execution_count": 25
        },
        {
          "output_type": "display_data",
          "data": {
            "text/plain": [
              "<Figure size 432x288 with 1 Axes>"
            ],
            "image/png": "[encoded data removed]"
          },
          "metadata": {
            "needs_background": "light"
          }
        }
      ]
    },
    {
      "cell_type": "markdown",
      "source": [
        "#### `'genres'`:"
      ],
      "metadata": {
        "id": "VK1WY76ciD6N"
      }
    },
    {
      "cell_type": "markdown",
      "source": [
        "Some videos belong to more than one genre, the genre of each video should be splitted. "
      ],
      "metadata": {
        "id": "UrBABsiXqSjq"
      }
    },
    {
      "cell_type": "code",
      "source": [
        "genres = df['genres'].str.get_dummies(sep = ',').sum(axis = 0)\n",
        "print(genres.index)"
      ],
      "metadata": {
        "colab": {
          "base_uri": "https://localhost:8080/"
        },
        "id": "9G53iwnQhzQP",
        "outputId": "bb2a3d4c-5bef-433a-deb1-7c8764ae5f35"
      },
      "execution_count": null,
      "outputs": [
        {
          "output_type": "stream",
          "name": "stdout",
          "text": [
            "Index(['Action', 'Adult', 'Adventure', 'Animation', 'Anime', 'Comedy', 'Crime',\n",
            "       'Documentary', 'Drama', 'Fantasy', 'Foreign/International', 'Holiday',\n",
            "       'Horror', 'Independent', 'Kids & Family', 'LGBT', 'Lifestyle', 'Music',\n",
            "       'Musicals', 'Mystery', 'Reality', 'Romance', 'Sci-Fi', 'Sport',\n",
            "       'Thriller', 'War', 'Western'],\n",
            "      dtype='object')\n"
          ]
        }
      ]
    },
    {
      "cell_type": "code",
      "source": [
        "genres.sort_values(ascending=False).plot.bar();"
      ],
      "metadata": {
        "colab": {
          "base_uri": "https://localhost:8080/",
          "height": 360
        },
        "id": "j7Rg6Ew2jxHP",
        "outputId": "c7e0f072-47da-4e51-e956-65e342bae3fc"
      },
      "execution_count": null,
      "outputs": [
        {
          "output_type": "display_data",
          "data": {
            "text/plain": [
              "<Figure size 432x288 with 1 Axes>"
            ],
            "image/png": "[encoded data removed]"
          },
          "metadata": {
            "needs_background": "light"
          }
        }
      ]
    },
    {
      "cell_type": "markdown",
      "source": [
        "Notice the last 6 genres have very small counts. It would be a good idea to group them as one named 'others' in feature preprocessing."
      ],
      "metadata": {
        "id": "3DZRRKOyrgtc"
      }
    },
    {
      "cell_type": "markdown",
      "source": [
        "#### `'release_year'`:"
      ],
      "metadata": {
        "id": "2tpKTzsHiIu4"
      }
    },
    {
      "cell_type": "code",
      "source": [
        "plt.hist(df['release_year'], bins = range(1910, 2017, 1), alpha = 0.4)\n",
        "plt.xlabel('release_year')\n",
        "plt.ylabel('count');"
      ],
      "metadata": {
        "colab": {
          "base_uri": "https://localhost:8080/",
          "height": 280
        },
        "id": "jsCSOjeiiMMn",
        "outputId": "ede1b8ad-d1b9-4a6c-f034-1899bd05e066"
      },
      "execution_count": null,
      "outputs": [
        {
          "output_type": "display_data",
          "data": {
            "text/plain": [
              "<Figure size 432x288 with 1 Axes>"
            ],
            "image/png": "[encoded data removed]"
          },
          "metadata": {
            "needs_background": "light"
          }
        }
      ]
    },
    {
      "cell_type": "markdown",
      "source": [
        "# Part 2: Preprocessing"
      ],
      "metadata": {
        "id": "2cKaw_Ear_4b"
      }
    },
    {
      "cell_type": "markdown",
      "source": [
        "## Part 2.1: Numerical Features\n",
        "Filling missing data with mean value\n"
      ],
      "metadata": {
        "id": "phSBh7JZsYW7"
      }
    },
    {
      "cell_type": "code",
      "source": [
        "df_num['imdb_votes']=df_num['imdb_votes'].fillna(df_num['imdb_votes'].mean())\n",
        "df_num['budget']=df_num['budget'].fillna(df_num['budget'].mean())\n",
        "df_num['boxoffice']=df_num['boxoffice'].fillna(df_num['boxoffice'].mean())\n",
        "df_num['imdb_rating']=df_num['imdb_rating'].fillna(df_num['imdb_rating'].mean())\n",
        "df_num['metacritic_score']=df_num['metacritic_score'].fillna(df_num['metacritic_score'].mean())\n",
        "df_num['star_category']=df_num['star_category'].fillna(df_num['star_category'].mean())"
      ],
      "metadata": {
        "id": "W4nBX3a74zUD"
      },
      "execution_count": null,
      "outputs": []
    },
    {
      "cell_type": "code",
      "source": [
        "df_num.info()"
      ],
      "metadata": {
        "id": "zH2MeL8SowUN",
        "colab": {
          "base_uri": "https://localhost:8080/"
        },
        "outputId": "de681dfc-7f21-46f2-9e61-d3fd81701b4b"
      },
      "execution_count": null,
      "outputs": [
        {
          "output_type": "stream",
          "name": "stdout",
          "text": [
            "<class 'pandas.core.frame.DataFrame'>\n",
            "RangeIndex: 4226 entries, 0 to 4225\n",
            "Data columns (total 10 columns):\n",
            " #   Column                         Non-Null Count  Dtype  \n",
            "---  ------                         --------------  -----  \n",
            " 0   cvt_per_day                    4226 non-null   float64\n",
            " 1   weighted_categorical_position  4226 non-null   int64  \n",
            " 2   weighted_horizontal_poition    4226 non-null   int64  \n",
            " 3   imdb_votes                     4226 non-null   float64\n",
            " 4   budget                         4226 non-null   float64\n",
            " 5   boxoffice                      4226 non-null   float64\n",
            " 6   imdb_rating                    4226 non-null   float64\n",
            " 7   duration_in_mins               4226 non-null   float64\n",
            " 8   metacritic_score               4226 non-null   float64\n",
            " 9   star_category                  4226 non-null   float64\n",
            "dtypes: float64(8), int64(2)\n",
            "memory usage: 330.3 KB\n"
          ]
        }
      ]
    },
    {
      "cell_type": "markdown",
      "source": [
        "### Part 2.1.1 Feature Scaling"
      ],
      "metadata": {
        "id": "BvEshzg18KVq"
      }
    },
    {
      "cell_type": "code",
      "source": [
        "scale_list = ['weighted_categorical_position', 'weighted_horizontal_poition', 'budget','boxoffice', \n",
        "             'imdb_votes','imdb_rating','duration_in_mins', 'metacritic_score','star_category']\n",
        "df_num[scale_list] = preprocessing.StandardScaler().fit_transform(df_num[scale_list])\n",
        "df_num.head()\n"
      ],
      "metadata": {
        "colab": {
          "base_uri": "https://localhost:8080/",
          "height": 270
        },
        "id": "lcsfqKCc8Hsr",
        "outputId": "fbcbd9df-6872-47a1-90f9-880085e6f800"
      },
      "execution_count": null,
      "outputs": [
        {
          "output_type": "execute_result",
          "data": {
            "text/plain": [
              "     cvt_per_day  weighted_categorical_position  weighted_horizontal_poition  \\\n",
              "0  307127.605608                      -1.105826                    -2.116264   \n",
              "1  270338.426375                      -1.105826                    -2.116264   \n",
              "2  256165.867446                      -1.105826                    -2.116264   \n",
              "3  196622.720996                      -0.779746                    -2.031963   \n",
              "4  159841.652064                      -1.105826                    -2.116264   \n",
              "\n",
              "   imdb_votes    budget  boxoffice  imdb_rating  duration_in_mins  \\\n",
              "0    1.984496  1.470049   4.695913     0.541892          1.078791   \n",
              "1    1.258002  1.470049  -1.022340     0.541892          0.257409   \n",
              "2    6.043083  3.108277   3.897514     1.099791          1.243025   \n",
              "3   11.077168  1.470049   0.766744     1.309003          1.951625   \n",
              "4    1.258478  3.289972  -0.264775     0.472155          0.758378   \n",
              "\n",
              "   metacritic_score  star_category  \n",
              "0         -0.629733       0.032892  \n",
              "1         -1.997101       3.434028  \n",
              "2          0.327425       2.101548  \n",
              "3          5.249951      -0.062811  \n",
              "4         -2.544049       3.029131  "
            ],
            "text/html": [
              "\n",
              "  <div id=\"df-30ddafdc-68c7-495c-b335-a9ffcd4ab444\">\n",
              "    <div class=\"colab-df-container\">\n",
              "      <div>\n",
              "<style scoped>\n",
              "    .dataframe tbody tr th:only-of-type {\n",
              "        vertical-align: middle;\n",
              "    }\n",
              "\n",
              "    .dataframe tbody tr th {\n",
              "        vertical-align: top;\n",
              "    }\n",
              "\n",
              "    .dataframe thead th {\n",
              "        text-align: right;\n",
              "    }\n",
              "</style>\n",
              "<table border=\"1\" class=\"dataframe\">\n",
              "  <thead>\n",
              "    <tr style=\"text-align: right;\">\n",
              "      <th></th>\n",
              "      <th>cvt_per_day</th>\n",
              "      <th>weighted_categorical_position</th>\n",
              "      <th>weighted_horizontal_poition</th>\n",
              "      <th>imdb_votes</th>\n",
              "      <th>budget</th>\n",
              "      <th>boxoffice</th>\n",
              "      <th>imdb_rating</th>\n",
              "      <th>duration_in_mins</th>\n",
              "      <th>metacritic_score</th>\n",
              "      <th>star_category</th>\n",
              "    </tr>\n",
              "  </thead>\n",
              "  <tbody>\n",
              "    <tr>\n",
              "      <th>0</th>\n",
              "      <td>307127.605608</td>\n",
              "      <td>-1.105826</td>\n",
              "      <td>-2.116264</td>\n",
              "      <td>1.984496</td>\n",
              "      <td>1.470049</td>\n",
              "      <td>4.695913</td>\n",
              "      <td>0.541892</td>\n",
              "      <td>1.078791</td>\n",
              "      <td>-0.629733</td>\n",
              "      <td>0.032892</td>\n",
              "    </tr>\n",
              "    <tr>\n",
              "      <th>1</th>\n",
              "      <td>270338.426375</td>\n",
              "      <td>-1.105826</td>\n",
              "      <td>-2.116264</td>\n",
              "      <td>1.258002</td>\n",
              "      <td>1.470049</td>\n",
              "      <td>-1.022340</td>\n",
              "      <td>0.541892</td>\n",
              "      <td>0.257409</td>\n",
              "      <td>-1.997101</td>\n",
              "      <td>3.434028</td>\n",
              "    </tr>\n",
              "    <tr>\n",
              "      <th>2</th>\n",
              "      <td>256165.867446</td>\n",
              "      <td>-1.105826</td>\n",
              "      <td>-2.116264</td>\n",
              "      <td>6.043083</td>\n",
              "      <td>3.108277</td>\n",
              "      <td>3.897514</td>\n",
              "      <td>1.099791</td>\n",
              "      <td>1.243025</td>\n",
              "      <td>0.327425</td>\n",
              "      <td>2.101548</td>\n",
              "    </tr>\n",
              "    <tr>\n",
              "      <th>3</th>\n",
              "      <td>196622.720996</td>\n",
              "      <td>-0.779746</td>\n",
              "      <td>-2.031963</td>\n",
              "      <td>11.077168</td>\n",
              "      <td>1.470049</td>\n",
              "      <td>0.766744</td>\n",
              "      <td>1.309003</td>\n",
              "      <td>1.951625</td>\n",
              "      <td>5.249951</td>\n",
              "      <td>-0.062811</td>\n",
              "    </tr>\n",
              "    <tr>\n",
              "      <th>4</th>\n",
              "      <td>159841.652064</td>\n",
              "      <td>-1.105826</td>\n",
              "      <td>-2.116264</td>\n",
              "      <td>1.258478</td>\n",
              "      <td>3.289972</td>\n",
              "      <td>-0.264775</td>\n",
              "      <td>0.472155</td>\n",
              "      <td>0.758378</td>\n",
              "      <td>-2.544049</td>\n",
              "      <td>3.029131</td>\n",
              "    </tr>\n",
              "  </tbody>\n",
              "</table>\n",
              "</div>\n",
              "      <button class=\"colab-df-convert\" onclick=\"convertToInteractive('df-30ddafdc-68c7-495c-b335-a9ffcd4ab444')\"\n",
              "              title=\"Convert this dataframe to an interactive table.\"\n",
              "              style=\"display:none;\">\n",
              "        \n",
              "  <svg xmlns=\"http://www.w3.org/2000/svg\" height=\"24px\"viewBox=\"0 0 24 24\"\n",
              "       width=\"24px\">\n",
              "    <path d=\"M0 0h24v24H0V0z\" fill=\"none\"/>\n",
              "    <path d=\"M18.56 5.44l.94 2.06.94-2.06 2.06-.94-2.06-.94-.94-2.06-.94 2.06-2.06.94zm-11 1L8.5 8.5l.94-2.06 2.06-.94-2.06-.94L8.5 2.5l-.94 2.06-2.06.94zm10 10l.94 2.06.94-2.06 2.06-.94-2.06-.94-.94-2.06-.94 2.06-2.06.94z\"/><path d=\"M17.41 7.96l-1.37-1.37c-.4-.4-.92-.59-1.43-.59-.52 0-1.04.2-1.43.59L10.3 9.45l-7.72 7.72c-.78.78-.78 2.05 0 2.83L4 21.41c.39.39.9.59 1.41.59.51 0 1.02-.2 1.41-.59l7.78-7.78 2.81-2.81c.8-.78.8-2.07 0-2.86zM5.41 20L4 18.59l7.72-7.72 1.47 1.35L5.41 20z\"/>\n",
              "  </svg>\n",
              "      </button>\n",
              "      \n",
              "  <style>\n",
              "    .colab-df-container {\n",
              "      display:flex;\n",
              "      flex-wrap:wrap;\n",
              "      gap: 12px;\n",
              "    }\n",
              "\n",
              "    .colab-df-convert {\n",
              "      background-color: #E8F0FE;\n",
              "      border: none;\n",
              "      border-radius: 50%;\n",
              "      cursor: pointer;\n",
              "      display: none;\n",
              "      fill: #1967D2;\n",
              "      height: 32px;\n",
              "      padding: 0 0 0 0;\n",
              "      width: 32px;\n",
              "    }\n",
              "\n",
              "    .colab-df-convert:hover {\n",
              "      background-color: #E2EBFA;\n",
              "      box-shadow: 0px 1px 2px rgba(60, 64, 67, 0.3), 0px 1px 3px 1px rgba(60, 64, 67, 0.15);\n",
              "      fill: #174EA6;\n",
              "    }\n",
              "\n",
              "    [theme=dark] .colab-df-convert {\n",
              "      background-color: #3B4455;\n",
              "      fill: #D2E3FC;\n",
              "    }\n",
              "\n",
              "    [theme=dark] .colab-df-convert:hover {\n",
              "      background-color: #434B5C;\n",
              "      box-shadow: 0px 1px 3px 1px rgba(0, 0, 0, 0.15);\n",
              "      filter: drop-shadow(0px 1px 2px rgba(0, 0, 0, 0.3));\n",
              "      fill: #FFFFFF;\n",
              "    }\n",
              "  </style>\n",
              "\n",
              "      <script>\n",
              "        const buttonEl =\n",
              "          document.querySelector('#df-30ddafdc-68c7-495c-b335-a9ffcd4ab444 button.colab-df-convert');\n",
              "        buttonEl.style.display =\n",
              "          google.colab.kernel.accessAllowed ? 'block' : 'none';\n",
              "\n",
              "        async function convertToInteractive(key) {\n",
              "          const element = document.querySelector('#df-30ddafdc-68c7-495c-b335-a9ffcd4ab444');\n",
              "          const dataTable =\n",
              "            await google.colab.kernel.invokeFunction('convertToInteractive',\n",
              "                                                     [key], {});\n",
              "          if (!dataTable) return;\n",
              "\n",
              "          const docLinkHtml = 'Like what you see? Visit the ' +\n",
              "            '<a target=\"_blank\" href=https://colab.research.google.com/notebooks/data_table.ipynb>data table notebook</a>'\n",
              "            + ' to learn more about interactive tables.';\n",
              "          element.innerHTML = '';\n",
              "          dataTable['output_type'] = 'display_data';\n",
              "          await google.colab.output.renderOutput(dataTable, element);\n",
              "          const docLink = document.createElement('div');\n",
              "          docLink.innerHTML = docLinkHtml;\n",
              "          element.appendChild(docLink);\n",
              "        }\n",
              "      </script>\n",
              "    </div>\n",
              "  </div>\n",
              "  "
            ]
          },
          "metadata": {},
          "execution_count": 31
        }
      ]
    },
    {
      "cell_type": "markdown",
      "source": [
        "## Part 2.2: Categorical Features\n",
        "Before one-hot encodes categorical features, `'release_year'` can be binned into less buckets and some `'genres'` can be grouped into 1."
      ],
      "metadata": {
        "id": "icZAMNtBsjdR"
      }
    },
    {
      "cell_type": "code",
      "source": [
        "# One-hot encodes 'import_id', 'awards', 'mpaa'\n",
        "df_import_id = pd.get_dummies(df['import_id']).astype(np.int64)\n",
        "df_awards = pd.get_dummies(df['awards']).astype(np.int64)\n",
        "df_mpaa = pd.get_dummies(df['mpaa']).astype(np.int64)"
      ],
      "metadata": {
        "id": "s79z4ZxusmX4"
      },
      "execution_count": null,
      "outputs": []
    },
    {
      "cell_type": "code",
      "source": [
        "# Group least popular genres into one group and then one-hot encoding:\n",
        "df_genres = df['genres'].str.get_dummies(sep = ',').astype(np.int64)\n",
        "df_genres['Others'] = np.sum([df_genres['Holiday'], df_genres['LGBT'], df_genres['Adult'], df_genres['Lifestyle'], df_genres['Reality'], df_genres['Anime']], axis=0)\n",
        "df_genres.drop(['Holiday', 'LGBT', 'Adult', 'Lifestyle', 'Reality', 'Anime'],axis=1, inplace=True)"
      ],
      "metadata": {
        "id": "rWoyzenvvT-Q"
      },
      "execution_count": null,
      "outputs": []
    },
    {
      "cell_type": "markdown",
      "source": [
        "The release year of video varies through a wide range. Considering the popularity of a video usually decays over time, the release_year should be bucketed based on the release_year range."
      ],
      "metadata": {
        "id": "M_ZFNXWG20FA"
      }
    },
    {
      "cell_type": "code",
      "source": [
        "df['release_year'].quantile([0.1,0.2,0.3,0.4,0.5,0.6,0.7,0.8,0.9,1])"
      ],
      "metadata": {
        "colab": {
          "base_uri": "https://localhost:8080/"
        },
        "id": "LxY8trJz29-z",
        "outputId": "637936fe-9623-44eb-c92c-44ff2a384dee"
      },
      "execution_count": null,
      "outputs": [
        {
          "output_type": "execute_result",
          "data": {
            "text/plain": [
              "0.1    1974.0\n",
              "0.2    1991.0\n",
              "0.3    2001.0\n",
              "0.4    2006.0\n",
              "0.5    2008.0\n",
              "0.6    2010.0\n",
              "0.7    2012.0\n",
              "0.8    2013.0\n",
              "0.9    2014.0\n",
              "1.0    2017.0\n",
              "Name: release_year, dtype: float64"
            ]
          },
          "metadata": {},
          "execution_count": 34
        }
      ]
    },
    {
      "cell_type": "code",
      "source": [
        "# binning 'release_year' with bucket size of 10\n",
        "bin_year = [1916, 1974, 1991, 2001, 2006, 2008, 2010, 2012, 2013, 2014, 2017]\n",
        "year_range = ['1916-1974', '1974-1991', '1991-2001', '2001-2006','2006-2008','2008-2010','2010-2012','2012-2013',\n",
        "              '2013-2014','2014-2017']\n",
        "\n",
        "year_bin = pd.cut(df['release_year'], bin_year, labels=year_range)\n",
        "df_year = pd.get_dummies(year_bin).astype(np.int64)"
      ],
      "metadata": {
        "id": "WV_2cPwP62DU"
      },
      "execution_count": null,
      "outputs": []
    },
    {
      "cell_type": "code",
      "source": [
        "# Concat all categorical features into a dataset\n",
        "\n",
        "df_new = pd.concat([df_num, df_import_id, df_awards, df_mpaa, df_genres, df_year], axis=1)\n",
        "df_new.head()"
      ],
      "metadata": {
        "colab": {
          "base_uri": "https://localhost:8080/",
          "height": 287
        },
        "id": "ShxQIRCu3hcK",
        "outputId": "70662113-3c6f-49bb-dac5-e3a56bbd144b"
      },
      "execution_count": null,
      "outputs": [
        {
          "output_type": "execute_result",
          "data": {
            "text/plain": [
              "     cvt_per_day  weighted_categorical_position  weighted_horizontal_poition  \\\n",
              "0  307127.605608                      -1.105826                    -2.116264   \n",
              "1  270338.426375                      -1.105826                    -2.116264   \n",
              "2  256165.867446                      -1.105826                    -2.116264   \n",
              "3  196622.720996                      -0.779746                    -2.031963   \n",
              "4  159841.652064                      -1.105826                    -2.116264   \n",
              "\n",
              "   imdb_votes    budget  boxoffice  imdb_rating  duration_in_mins  \\\n",
              "0    1.984496  1.470049   4.695913     0.541892          1.078791   \n",
              "1    1.258002  1.470049  -1.022340     0.541892          0.257409   \n",
              "2    6.043083  3.108277   3.897514     1.099791          1.243025   \n",
              "3   11.077168  1.470049   0.766744     1.309003          1.951625   \n",
              "4    1.258478  3.289972  -0.264775     0.472155          0.758378   \n",
              "\n",
              "   metacritic_score  star_category  lionsgate  mgm  other  paramount  BAFTA  \\\n",
              "0         -0.629733       0.032892          1    0      0          0      0   \n",
              "1         -1.997101       3.434028          1    0      0          0      0   \n",
              "2          0.327425       2.101548          0    0      1          0      0   \n",
              "3          5.249951      -0.062811          1    0      0          0      0   \n",
              "4         -2.544049       3.029131          1    0      0          0      0   \n",
              "\n",
              "   Golden Globe  Oscar  no award  other award  G  NC-17  NotRated  PG  PG-13  \\\n",
              "0             0      0         0            1  0      0         0   0      1   \n",
              "1             0      0         1            0  0      0         0   0      0   \n",
              "2             0      0         0            1  0      0         0   0      0   \n",
              "3             0      1         0            0  0      0         0   0      0   \n",
              "4             0      0         0            1  0      0         0   0      0   \n",
              "\n",
              "   R  Action  Adventure  Animation  Comedy  Crime  Documentary  Drama  \\\n",
              "0  0       1          0          0       0      0            0      1   \n",
              "1  1       0          0          0       1      1            0      0   \n",
              "2  1       0          0          0       0      1            0      1   \n",
              "3  1       1          0          0       0      0            1      1   \n",
              "4  1       0          0          0       0      1            1      0   \n",
              "\n",
              "   Fantasy  Foreign/International  Horror  Independent  Kids & Family  Music  \\\n",
              "0        0                      0       0            0              0      0   \n",
              "1        0                      0       0            0              0      0   \n",
              "2        0                      0       0            0              0      0   \n",
              "3        0                      0       0            0              0      0   \n",
              "4        0                      0       0            0              0      0   \n",
              "\n",
              "   Musicals  Mystery  Romance  Sci-Fi  Sport  Thriller  War  Western  Others  \\\n",
              "0         0        0        0       0      0         1    0        0       0   \n",
              "1         0        0        0       0      0         1    0        0       0   \n",
              "2         0        0        0       0      0         0    0        0       0   \n",
              "3         0        1        0       0      0         1    1        0       0   \n",
              "4         0        1        0       0      0         1    0        0       0   \n",
              "\n",
              "   1916-1974  1974-1991  1991-2001  2001-2006  2006-2008  2008-2010  \\\n",
              "0          0          0          0          0          0          0   \n",
              "1          0          0          0          0          0          0   \n",
              "2          0          0          0          0          0          0   \n",
              "3          0          0          0          0          1          0   \n",
              "4          0          0          0          0          0          0   \n",
              "\n",
              "   2010-2012  2012-2013  2013-2014  2014-2017  \n",
              "0          0          1          0          0  \n",
              "1          0          1          0          0  \n",
              "2          1          0          0          0  \n",
              "3          0          0          0          0  \n",
              "4          0          1          0          0  "
            ],
            "text/html": [
              "\n",
              "  <div id=\"df-41722216-5ea9-44cc-8e13-7c075fe25b6e\">\n",
              "    <div class=\"colab-df-container\">\n",
              "      <div>\n",
              "<style scoped>\n",
              "    .dataframe tbody tr th:only-of-type {\n",
              "        vertical-align: middle;\n",
              "    }\n",
              "\n",
              "    .dataframe tbody tr th {\n",
              "        vertical-align: top;\n",
              "    }\n",
              "\n",
              "    .dataframe thead th {\n",
              "        text-align: right;\n",
              "    }\n",
              "</style>\n",
              "<table border=\"1\" class=\"dataframe\">\n",
              "  <thead>\n",
              "    <tr style=\"text-align: right;\">\n",
              "      <th></th>\n",
              "      <th>cvt_per_day</th>\n",
              "      <th>weighted_categorical_position</th>\n",
              "      <th>weighted_horizontal_poition</th>\n",
              "      <th>imdb_votes</th>\n",
              "      <th>budget</th>\n",
              "      <th>boxoffice</th>\n",
              "      <th>imdb_rating</th>\n",
              "      <th>duration_in_mins</th>\n",
              "      <th>metacritic_score</th>\n",
              "      <th>star_category</th>\n",
              "      <th>lionsgate</th>\n",
              "      <th>mgm</th>\n",
              "      <th>other</th>\n",
              "      <th>paramount</th>\n",
              "      <th>BAFTA</th>\n",
              "      <th>Golden Globe</th>\n",
              "      <th>Oscar</th>\n",
              "      <th>no award</th>\n",
              "      <th>other award</th>\n",
              "      <th>G</th>\n",
              "      <th>NC-17</th>\n",
              "      <th>NotRated</th>\n",
              "      <th>PG</th>\n",
              "      <th>PG-13</th>\n",
              "      <th>R</th>\n",
              "      <th>Action</th>\n",
              "      <th>Adventure</th>\n",
              "      <th>Animation</th>\n",
              "      <th>Comedy</th>\n",
              "      <th>Crime</th>\n",
              "      <th>Documentary</th>\n",
              "      <th>Drama</th>\n",
              "      <th>Fantasy</th>\n",
              "      <th>Foreign/International</th>\n",
              "      <th>Horror</th>\n",
              "      <th>Independent</th>\n",
              "      <th>Kids &amp; Family</th>\n",
              "      <th>Music</th>\n",
              "      <th>Musicals</th>\n",
              "      <th>Mystery</th>\n",
              "      <th>Romance</th>\n",
              "      <th>Sci-Fi</th>\n",
              "      <th>Sport</th>\n",
              "      <th>Thriller</th>\n",
              "      <th>War</th>\n",
              "      <th>Western</th>\n",
              "      <th>Others</th>\n",
              "      <th>1916-1974</th>\n",
              "      <th>1974-1991</th>\n",
              "      <th>1991-2001</th>\n",
              "      <th>2001-2006</th>\n",
              "      <th>2006-2008</th>\n",
              "      <th>2008-2010</th>\n",
              "      <th>2010-2012</th>\n",
              "      <th>2012-2013</th>\n",
              "      <th>2013-2014</th>\n",
              "      <th>2014-2017</th>\n",
              "    </tr>\n",
              "  </thead>\n",
              "  <tbody>\n",
              "    <tr>\n",
              "      <th>0</th>\n",
              "      <td>307127.605608</td>\n",
              "      <td>-1.105826</td>\n",
              "      <td>-2.116264</td>\n",
              "      <td>1.984496</td>\n",
              "      <td>1.470049</td>\n",
              "      <td>4.695913</td>\n",
              "      <td>0.541892</td>\n",
              "      <td>1.078791</td>\n",
              "      <td>-0.629733</td>\n",
              "      <td>0.032892</td>\n",
              "      <td>1</td>\n",
              "      <td>0</td>\n",
              "      <td>0</td>\n",
              "      <td>0</td>\n",
              "      <td>0</td>\n",
              "      <td>0</td>\n",
              "      <td>0</td>\n",
              "      <td>0</td>\n",
              "      <td>1</td>\n",
              "      <td>0</td>\n",
              "      <td>0</td>\n",
              "      <td>0</td>\n",
              "      <td>0</td>\n",
              "      <td>1</td>\n",
              "      <td>0</td>\n",
              "      <td>1</td>\n",
              "      <td>0</td>\n",
              "      <td>0</td>\n",
              "      <td>0</td>\n",
              "      <td>0</td>\n",
              "      <td>0</td>\n",
              "      <td>1</td>\n",
              "      <td>0</td>\n",
              "      <td>0</td>\n",
              "      <td>0</td>\n",
              "      <td>0</td>\n",
              "      <td>0</td>\n",
              "      <td>0</td>\n",
              "      <td>0</td>\n",
              "      <td>0</td>\n",
              "      <td>0</td>\n",
              "      <td>0</td>\n",
              "      <td>0</td>\n",
              "      <td>1</td>\n",
              "      <td>0</td>\n",
              "      <td>0</td>\n",
              "      <td>0</td>\n",
              "      <td>0</td>\n",
              "      <td>0</td>\n",
              "      <td>0</td>\n",
              "      <td>0</td>\n",
              "      <td>0</td>\n",
              "      <td>0</td>\n",
              "      <td>0</td>\n",
              "      <td>1</td>\n",
              "      <td>0</td>\n",
              "      <td>0</td>\n",
              "    </tr>\n",
              "    <tr>\n",
              "      <th>1</th>\n",
              "      <td>270338.426375</td>\n",
              "      <td>-1.105826</td>\n",
              "      <td>-2.116264</td>\n",
              "      <td>1.258002</td>\n",
              "      <td>1.470049</td>\n",
              "      <td>-1.022340</td>\n",
              "      <td>0.541892</td>\n",
              "      <td>0.257409</td>\n",
              "      <td>-1.997101</td>\n",
              "      <td>3.434028</td>\n",
              "      <td>1</td>\n",
              "      <td>0</td>\n",
              "      <td>0</td>\n",
              "      <td>0</td>\n",
              "      <td>0</td>\n",
              "      <td>0</td>\n",
              "      <td>0</td>\n",
              "      <td>1</td>\n",
              "      <td>0</td>\n",
              "      <td>0</td>\n",
              "      <td>0</td>\n",
              "      <td>0</td>\n",
              "      <td>0</td>\n",
              "      <td>0</td>\n",
              "      <td>1</td>\n",
              "      <td>0</td>\n",
              "      <td>0</td>\n",
              "      <td>0</td>\n",
              "      <td>1</td>\n",
              "      <td>1</td>\n",
              "      <td>0</td>\n",
              "      <td>0</td>\n",
              "      <td>0</td>\n",
              "      <td>0</td>\n",
              "      <td>0</td>\n",
              "      <td>0</td>\n",
              "      <td>0</td>\n",
              "      <td>0</td>\n",
              "      <td>0</td>\n",
              "      <td>0</td>\n",
              "      <td>0</td>\n",
              "      <td>0</td>\n",
              "      <td>0</td>\n",
              "      <td>1</td>\n",
              "      <td>0</td>\n",
              "      <td>0</td>\n",
              "      <td>0</td>\n",
              "      <td>0</td>\n",
              "      <td>0</td>\n",
              "      <td>0</td>\n",
              "      <td>0</td>\n",
              "      <td>0</td>\n",
              "      <td>0</td>\n",
              "      <td>0</td>\n",
              "      <td>1</td>\n",
              "      <td>0</td>\n",
              "      <td>0</td>\n",
              "    </tr>\n",
              "    <tr>\n",
              "      <th>2</th>\n",
              "      <td>256165.867446</td>\n",
              "      <td>-1.105826</td>\n",
              "      <td>-2.116264</td>\n",
              "      <td>6.043083</td>\n",
              "      <td>3.108277</td>\n",
              "      <td>3.897514</td>\n",
              "      <td>1.099791</td>\n",
              "      <td>1.243025</td>\n",
              "      <td>0.327425</td>\n",
              "      <td>2.101548</td>\n",
              "      <td>0</td>\n",
              "      <td>0</td>\n",
              "      <td>1</td>\n",
              "      <td>0</td>\n",
              "      <td>0</td>\n",
              "      <td>0</td>\n",
              "      <td>0</td>\n",
              "      <td>0</td>\n",
              "      <td>1</td>\n",
              "      <td>0</td>\n",
              "      <td>0</td>\n",
              "      <td>0</td>\n",
              "      <td>0</td>\n",
              "      <td>0</td>\n",
              "      <td>1</td>\n",
              "      <td>0</td>\n",
              "      <td>0</td>\n",
              "      <td>0</td>\n",
              "      <td>0</td>\n",
              "      <td>1</td>\n",
              "      <td>0</td>\n",
              "      <td>1</td>\n",
              "      <td>0</td>\n",
              "      <td>0</td>\n",
              "      <td>0</td>\n",
              "      <td>0</td>\n",
              "      <td>0</td>\n",
              "      <td>0</td>\n",
              "      <td>0</td>\n",
              "      <td>0</td>\n",
              "      <td>0</td>\n",
              "      <td>0</td>\n",
              "      <td>0</td>\n",
              "      <td>0</td>\n",
              "      <td>0</td>\n",
              "      <td>0</td>\n",
              "      <td>0</td>\n",
              "      <td>0</td>\n",
              "      <td>0</td>\n",
              "      <td>0</td>\n",
              "      <td>0</td>\n",
              "      <td>0</td>\n",
              "      <td>0</td>\n",
              "      <td>1</td>\n",
              "      <td>0</td>\n",
              "      <td>0</td>\n",
              "      <td>0</td>\n",
              "    </tr>\n",
              "    <tr>\n",
              "      <th>3</th>\n",
              "      <td>196622.720996</td>\n",
              "      <td>-0.779746</td>\n",
              "      <td>-2.031963</td>\n",
              "      <td>11.077168</td>\n",
              "      <td>1.470049</td>\n",
              "      <td>0.766744</td>\n",
              "      <td>1.309003</td>\n",
              "      <td>1.951625</td>\n",
              "      <td>5.249951</td>\n",
              "      <td>-0.062811</td>\n",
              "      <td>1</td>\n",
              "      <td>0</td>\n",
              "      <td>0</td>\n",
              "      <td>0</td>\n",
              "      <td>0</td>\n",
              "      <td>0</td>\n",
              "      <td>1</td>\n",
              "      <td>0</td>\n",
              "      <td>0</td>\n",
              "      <td>0</td>\n",
              "      <td>0</td>\n",
              "      <td>0</td>\n",
              "      <td>0</td>\n",
              "      <td>0</td>\n",
              "      <td>1</td>\n",
              "      <td>1</td>\n",
              "      <td>0</td>\n",
              "      <td>0</td>\n",
              "      <td>0</td>\n",
              "      <td>0</td>\n",
              "      <td>1</td>\n",
              "      <td>1</td>\n",
              "      <td>0</td>\n",
              "      <td>0</td>\n",
              "      <td>0</td>\n",
              "      <td>0</td>\n",
              "      <td>0</td>\n",
              "      <td>0</td>\n",
              "      <td>0</td>\n",
              "      <td>1</td>\n",
              "      <td>0</td>\n",
              "      <td>0</td>\n",
              "      <td>0</td>\n",
              "      <td>1</td>\n",
              "      <td>1</td>\n",
              "      <td>0</td>\n",
              "      <td>0</td>\n",
              "      <td>0</td>\n",
              "      <td>0</td>\n",
              "      <td>0</td>\n",
              "      <td>0</td>\n",
              "      <td>1</td>\n",
              "      <td>0</td>\n",
              "      <td>0</td>\n",
              "      <td>0</td>\n",
              "      <td>0</td>\n",
              "      <td>0</td>\n",
              "    </tr>\n",
              "    <tr>\n",
              "      <th>4</th>\n",
              "      <td>159841.652064</td>\n",
              "      <td>-1.105826</td>\n",
              "      <td>-2.116264</td>\n",
              "      <td>1.258478</td>\n",
              "      <td>3.289972</td>\n",
              "      <td>-0.264775</td>\n",
              "      <td>0.472155</td>\n",
              "      <td>0.758378</td>\n",
              "      <td>-2.544049</td>\n",
              "      <td>3.029131</td>\n",
              "      <td>1</td>\n",
              "      <td>0</td>\n",
              "      <td>0</td>\n",
              "      <td>0</td>\n",
              "      <td>0</td>\n",
              "      <td>0</td>\n",
              "      <td>0</td>\n",
              "      <td>0</td>\n",
              "      <td>1</td>\n",
              "      <td>0</td>\n",
              "      <td>0</td>\n",
              "      <td>0</td>\n",
              "      <td>0</td>\n",
              "      <td>0</td>\n",
              "      <td>1</td>\n",
              "      <td>0</td>\n",
              "      <td>0</td>\n",
              "      <td>0</td>\n",
              "      <td>0</td>\n",
              "      <td>1</td>\n",
              "      <td>1</td>\n",
              "      <td>0</td>\n",
              "      <td>0</td>\n",
              "      <td>0</td>\n",
              "      <td>0</td>\n",
              "      <td>0</td>\n",
              "      <td>0</td>\n",
              "      <td>0</td>\n",
              "      <td>0</td>\n",
              "      <td>1</td>\n",
              "      <td>0</td>\n",
              "      <td>0</td>\n",
              "      <td>0</td>\n",
              "      <td>1</td>\n",
              "      <td>0</td>\n",
              "      <td>0</td>\n",
              "      <td>0</td>\n",
              "      <td>0</td>\n",
              "      <td>0</td>\n",
              "      <td>0</td>\n",
              "      <td>0</td>\n",
              "      <td>0</td>\n",
              "      <td>0</td>\n",
              "      <td>0</td>\n",
              "      <td>1</td>\n",
              "      <td>0</td>\n",
              "      <td>0</td>\n",
              "    </tr>\n",
              "  </tbody>\n",
              "</table>\n",
              "</div>\n",
              "      <button class=\"colab-df-convert\" onclick=\"convertToInteractive('df-41722216-5ea9-44cc-8e13-7c075fe25b6e')\"\n",
              "              title=\"Convert this dataframe to an interactive table.\"\n",
              "              style=\"display:none;\">\n",
              "        \n",
              "  <svg xmlns=\"http://www.w3.org/2000/svg\" height=\"24px\"viewBox=\"0 0 24 24\"\n",
              "       width=\"24px\">\n",
              "    <path d=\"M0 0h24v24H0V0z\" fill=\"none\"/>\n",
              "    <path d=\"M18.56 5.44l.94 2.06.94-2.06 2.06-.94-2.06-.94-.94-2.06-.94 2.06-2.06.94zm-11 1L8.5 8.5l.94-2.06 2.06-.94-2.06-.94L8.5 2.5l-.94 2.06-2.06.94zm10 10l.94 2.06.94-2.06 2.06-.94-2.06-.94-.94-2.06-.94 2.06-2.06.94z\"/><path d=\"M17.41 7.96l-1.37-1.37c-.4-.4-.92-.59-1.43-.59-.52 0-1.04.2-1.43.59L10.3 9.45l-7.72 7.72c-.78.78-.78 2.05 0 2.83L4 21.41c.39.39.9.59 1.41.59.51 0 1.02-.2 1.41-.59l7.78-7.78 2.81-2.81c.8-.78.8-2.07 0-2.86zM5.41 20L4 18.59l7.72-7.72 1.47 1.35L5.41 20z\"/>\n",
              "  </svg>\n",
              "      </button>\n",
              "      \n",
              "  <style>\n",
              "    .colab-df-container {\n",
              "      display:flex;\n",
              "      flex-wrap:wrap;\n",
              "      gap: 12px;\n",
              "    }\n",
              "\n",
              "    .colab-df-convert {\n",
              "      background-color: #E8F0FE;\n",
              "      border: none;\n",
              "      border-radius: 50%;\n",
              "      cursor: pointer;\n",
              "      display: none;\n",
              "      fill: #1967D2;\n",
              "      height: 32px;\n",
              "      padding: 0 0 0 0;\n",
              "      width: 32px;\n",
              "    }\n",
              "\n",
              "    .colab-df-convert:hover {\n",
              "      background-color: #E2EBFA;\n",
              "      box-shadow: 0px 1px 2px rgba(60, 64, 67, 0.3), 0px 1px 3px 1px rgba(60, 64, 67, 0.15);\n",
              "      fill: #174EA6;\n",
              "    }\n",
              "\n",
              "    [theme=dark] .colab-df-convert {\n",
              "      background-color: #3B4455;\n",
              "      fill: #D2E3FC;\n",
              "    }\n",
              "\n",
              "    [theme=dark] .colab-df-convert:hover {\n",
              "      background-color: #434B5C;\n",
              "      box-shadow: 0px 1px 3px 1px rgba(0, 0, 0, 0.15);\n",
              "      filter: drop-shadow(0px 1px 2px rgba(0, 0, 0, 0.3));\n",
              "      fill: #FFFFFF;\n",
              "    }\n",
              "  </style>\n",
              "\n",
              "      <script>\n",
              "        const buttonEl =\n",
              "          document.querySelector('#df-41722216-5ea9-44cc-8e13-7c075fe25b6e button.colab-df-convert');\n",
              "        buttonEl.style.display =\n",
              "          google.colab.kernel.accessAllowed ? 'block' : 'none';\n",
              "\n",
              "        async function convertToInteractive(key) {\n",
              "          const element = document.querySelector('#df-41722216-5ea9-44cc-8e13-7c075fe25b6e');\n",
              "          const dataTable =\n",
              "            await google.colab.kernel.invokeFunction('convertToInteractive',\n",
              "                                                     [key], {});\n",
              "          if (!dataTable) return;\n",
              "\n",
              "          const docLinkHtml = 'Like what you see? Visit the ' +\n",
              "            '<a target=\"_blank\" href=https://colab.research.google.com/notebooks/data_table.ipynb>data table notebook</a>'\n",
              "            + ' to learn more about interactive tables.';\n",
              "          element.innerHTML = '';\n",
              "          dataTable['output_type'] = 'display_data';\n",
              "          await google.colab.output.renderOutput(dataTable, element);\n",
              "          const docLink = document.createElement('div');\n",
              "          docLink.innerHTML = docLinkHtml;\n",
              "          element.appendChild(docLink);\n",
              "        }\n",
              "      </script>\n",
              "    </div>\n",
              "  </div>\n",
              "  "
            ]
          },
          "metadata": {},
          "execution_count": 36
        }
      ]
    },
    {
      "cell_type": "markdown",
      "source": [
        "# Part 3: Model Training"
      ],
      "metadata": {
        "id": "YZ4FTCI86dZw"
      }
    },
    {
      "cell_type": "code",
      "source": [
        "train, test = train_test_split(df_new, test_size = 0.1, random_state = 123)\n",
        "train_x = train.drop(['cvt_per_day'],axis = 1)\n",
        "train_y = train['cvt_per_day']\n",
        "test_x = test.drop(['cvt_per_day'],axis = 1)\n",
        "test_y = test['cvt_per_day']"
      ],
      "metadata": {
        "id": "pvNDuH3K6me2"
      },
      "execution_count": null,
      "outputs": []
    },
    {
      "cell_type": "markdown",
      "source": [
        "### Part 3.1 Linear Regression-LASSO"
      ],
      "metadata": {
        "id": "T66v_tGbGdMG"
      }
    },
    {
      "cell_type": "code",
      "source": [
        "lr_train, lr_validation = train_test_split(train, test_size=0.1, random_state = 0)\n",
        "lr_train_x = lr_train.drop(['cvt_per_day'],axis = 1)\n",
        "lr_train_y = lr_train['cvt_per_day']\n",
        "lr_validation_x = lr_validation.drop(['cvt_per_day'],axis = 1)\n",
        "lr_validation_y = lr_validation['cvt_per_day']"
      ],
      "metadata": {
        "id": "NdRSObWPGJyT"
      },
      "execution_count": null,
      "outputs": []
    },
    {
      "cell_type": "code",
      "source": [
        "alphas = np.linspace (1, 100, num=300)\n",
        "scores = np.empty_like(alphas)\n",
        "opt_alpha = float('-inf')\n",
        "max_score = float('-inf')\n",
        "for i, a in enumerate(alphas):\n",
        "    lasso = Lasso()\n",
        "    lasso.set_params(alpha = a)\n",
        "    lasso.fit(lr_train_x, lr_train_y)\n",
        "    scores[i] = lasso.score(lr_validation_x, lr_validation_y)\n",
        "    if scores[i] > max_score:\n",
        "        max_score = scores[i]\n",
        "        opt_alpha = a\n",
        "plt.plot(alphas, scores, color='b', linestyle='dashed', marker='o',markerfacecolor='blue', markersize=6)\n",
        "plt.xlabel('alpha')\n",
        "plt.ylabel('score')\n",
        "plt.grid(True)\n",
        "plt.title('score vs. alpha')\n",
        "plt.show()\n",
        "model1_para = opt_alpha\n",
        "print ('The optimaized alpha and score of Lasso linear is: '), opt_alpha, max_score"
      ],
      "metadata": {
        "colab": {
          "base_uri": "https://localhost:8080/",
          "height": 329
        },
        "id": "u82-eBbzI0aZ",
        "outputId": "185dfc1a-f85c-43c1-b771-c1d73b468f4a"
      },
      "execution_count": null,
      "outputs": [
        {
          "output_type": "display_data",
          "data": {
            "text/plain": [
              "<Figure size 432x288 with 1 Axes>"
            ],
            "image/png": "[encoded data removed]"
          },
          "metadata": {
            "needs_background": "light"
          }
        },
        {
          "output_type": "stream",
          "name": "stdout",
          "text": [
            "The optimaized alpha and score of Lasso linear is: \n"
          ]
        },
        {
          "output_type": "execute_result",
          "data": {
            "text/plain": [
              "(None, 16.23076923076923, 0.3392670107874811)"
            ]
          },
          "metadata": {},
          "execution_count": 39
        }
      ]
    },
    {
      "cell_type": "code",
      "source": [
        "# combine the validate data and training data, use the optimal alpha, re-train the model\n",
        "\n",
        "lasso_f = Lasso()\n",
        "lasso_f.set_params(alpha = opt_alpha)\n",
        "lasso_f.fit(train_x, train_y)"
      ],
      "metadata": {
        "colab": {
          "base_uri": "https://localhost:8080/"
        },
        "id": "dwD9u6vReIxw",
        "outputId": "4aab1877-2ef6-4ddb-8967-acf1c643cc94"
      },
      "execution_count": null,
      "outputs": [
        {
          "output_type": "execute_result",
          "data": {
            "text/plain": [
              "Lasso(alpha=16.23076923076923)"
            ]
          },
          "metadata": {},
          "execution_count": 40
        }
      ]
    },
    {
      "cell_type": "markdown",
      "source": [
        "### Part 3.2 Linear Regression-Ridge"
      ],
      "metadata": {
        "id": "thvIdgQeGqP_"
      }
    },
    {
      "cell_type": "code",
      "source": [
        "alphas = np.linspace (1, 201, num=500)\n",
        "scores = np.empty_like(alphas)\n",
        "opt_alpha1 = float('-inf')\n",
        "max_score = float('-inf')\n",
        "for i, a in enumerate(alphas):\n",
        "    ridge = Ridge()\n",
        "    ridge.set_params(alpha = a)\n",
        "    ridge.fit(lr_train_x, lr_train_y)\n",
        "    scores[i] = ridge.score(lr_validation_x, lr_validation_y)\n",
        "    if scores[i] > max_score:\n",
        "        max_score = scores[i]\n",
        "        opt_alpha1 = a\n",
        "plt.plot(alphas, scores, color='r', linestyle='dashed', marker='o',markerfacecolor='r', markersize=6)\n",
        "plt.xlabel('alpha')\n",
        "plt.ylabel('score')\n",
        "plt.grid(True)\n",
        "plt.title('score vs. alpha')\n",
        "model3_para = opt_alpha1\n",
        "print ('The optimaized alpha and score of Ridge linear is: '), opt_alpha1, max_score"
      ],
      "metadata": {
        "id": "AhGn7zmaGsGa",
        "colab": {
          "base_uri": "https://localhost:8080/",
          "height": 329
        },
        "outputId": "e4fff602-1002-4200-9076-414460ecddd4"
      },
      "execution_count": null,
      "outputs": [
        {
          "output_type": "stream",
          "name": "stdout",
          "text": [
            "The optimaized alpha and score of Ridge linear is: \n"
          ]
        },
        {
          "output_type": "execute_result",
          "data": {
            "text/plain": [
              "(None, 91.98196392785572, 0.34121732153039497)"
            ]
          },
          "metadata": {},
          "execution_count": 41
        },
        {
          "output_type": "display_data",
          "data": {
            "text/plain": [
              "<Figure size 432x288 with 1 Axes>"
            ],
            "image/png": "[encoded data removed]"
          },
          "metadata": {
            "needs_background": "light"
          }
        }
      ]
    },
    {
      "cell_type": "code",
      "source": [
        "# combine the validate data and training data, use the optimal alpha, re-train the model\n",
        "\n",
        "ridge_f = Ridge()\n",
        "ridge_f.set_params(alpha = opt_alpha1)\n",
        "ridge_f.fit(train_x, train_y)"
      ],
      "metadata": {
        "id": "JODpoROlOQ6a",
        "colab": {
          "base_uri": "https://localhost:8080/"
        },
        "outputId": "87bba0bd-daad-45ed-e459-4b2fe5040fa6"
      },
      "execution_count": null,
      "outputs": [
        {
          "output_type": "execute_result",
          "data": {
            "text/plain": [
              "Ridge(alpha=91.98196392785572)"
            ]
          },
          "metadata": {},
          "execution_count": 42
        }
      ]
    },
    {
      "cell_type": "markdown",
      "source": [
        "## Part 3.3 Random Forest"
      ],
      "metadata": {
        "id": "GzcKqPcFfIgJ"
      }
    },
    {
      "cell_type": "code",
      "source": [
        "rf=RandomForestRegressor(random_state=2,max_features='sqrt',n_jobs=-1)\n",
        "param_grid={'n_estimators':[55,56,57,58,59,60,61,62,63,64,65,66,67],'max_depth':[13,14,15,16,17,18,19,20]}\n",
        "clf=GridSearchCV(estimator=rf,param_grid=param_grid,cv=5,refit=True,n_jobs=-1,pre_dispatch='2*n_jobs') \n",
        "clf.fit(train_x, train_y)"
      ],
      "metadata": {
        "colab": {
          "base_uri": "https://localhost:8080/"
        },
        "id": "8gCQf1z0eyvu",
        "outputId": "aa3c57bf-bd6e-45a8-abf3-e21f9a0269fe"
      },
      "execution_count": null,
      "outputs": [
        {
          "output_type": "execute_result",
          "data": {
            "text/plain": [
              "GridSearchCV(cv=5,\n",
              "             estimator=RandomForestRegressor(max_features='sqrt', n_jobs=-1,\n",
              "                                             random_state=2),\n",
              "             n_jobs=-1,\n",
              "             param_grid={'max_depth': [13, 14, 15, 16, 17, 18, 19, 20],\n",
              "                         'n_estimators': [55, 56, 57, 58, 59, 60, 61, 62, 63,\n",
              "                                          64, 65, 66, 67]})"
            ]
          },
          "metadata": {},
          "execution_count": 43
        }
      ]
    },
    {
      "cell_type": "code",
      "source": [
        "result=clf.cv_results_\n",
        "max_depth=[13,14,15,16,17,18,19,20]   \n",
        "n_estimators=[55,56,57,58,59,60,61,62,63,64,65,66,67]   \n",
        "scores=clf.cv_results_['mean_test_score'].reshape(len(max_depth),len(n_estimators))\n",
        "scores"
      ],
      "metadata": {
        "colab": {
          "base_uri": "https://localhost:8080/"
        },
        "id": "SsOg7OSMiPhg",
        "outputId": "22075428-ae38-4c84-cccc-e150c7e3faea"
      },
      "execution_count": null,
      "outputs": [
        {
          "output_type": "execute_result",
          "data": {
            "text/plain": [
              "array([[0.49687053, 0.49707844, 0.49723755, 0.49603937, 0.49412487,\n",
              "        0.49534859, 0.49733895, 0.49983126, 0.49943913, 0.49873045,\n",
              "        0.4994671 , 0.49795409, 0.49873437],\n",
              "       [0.48712006, 0.48525972, 0.48631286, 0.48351572, 0.48445009,\n",
              "        0.48494319, 0.48666588, 0.48786685, 0.48798381, 0.48844232,\n",
              "        0.49010987, 0.49043653, 0.48969431],\n",
              "       [0.50354522, 0.50204097, 0.50266948, 0.50059638, 0.49966161,\n",
              "        0.50546677, 0.50621493, 0.50915613, 0.5076165 , 0.50674058,\n",
              "        0.50934159, 0.50858638, 0.50868568],\n",
              "       [0.49129274, 0.489639  , 0.49057699, 0.48834214, 0.48815934,\n",
              "        0.49031754, 0.4926234 , 0.49453119, 0.49390995, 0.49376374,\n",
              "        0.49847999, 0.49774911, 0.49849178],\n",
              "       [0.48972011, 0.48880195, 0.4898231 , 0.4915768 , 0.49226538,\n",
              "        0.49259832, 0.49287165, 0.49437911, 0.49338457, 0.49306832,\n",
              "        0.49387284, 0.49239991, 0.49483337],\n",
              "       [0.48767883, 0.48425119, 0.48575548, 0.48402092, 0.48433322,\n",
              "        0.48569775, 0.4869683 , 0.48967949, 0.48960308, 0.49029982,\n",
              "        0.49304321, 0.49523865, 0.49471639],\n",
              "       [0.48936419, 0.48769061, 0.48841738, 0.4869616 , 0.48313777,\n",
              "        0.48207396, 0.48461779, 0.48662815, 0.48262157, 0.48360456,\n",
              "        0.48586931, 0.48326307, 0.48397878],\n",
              "       [0.49753336, 0.49815099, 0.49885101, 0.49662277, 0.49478949,\n",
              "        0.49398332, 0.49502455, 0.49644595, 0.49768931, 0.49941904,\n",
              "        0.50164055, 0.50129469, 0.49947354]])"
            ]
          },
          "metadata": {},
          "execution_count": 44
        }
      ]
    },
    {
      "cell_type": "code",
      "source": [
        "plt.figure(1)\n",
        "plt.subplot(1,1,1)\n",
        "for i,j in enumerate(max_depth):\n",
        "  plt.plot(n_estimators,scores[i],'-o',label='max_depths is: '+str(j))\n",
        "plt.legend(bbox_to_anchor=(1.05, 1), loc='upper left', borderaxespad=0.)\n",
        "plt.xlabel('n_estimators')\n",
        "plt.ylabel('mean_test_score')\n",
        "print('the best parameter for max_depth is: '+str(clf.best_params_['max_depth']))\n",
        "print('the best parameter for n_estimators is: '+str(clf.best_params_['n_estimators']))"
      ],
      "metadata": {
        "colab": {
          "base_uri": "https://localhost:8080/",
          "height": 314
        },
        "id": "epsQ301yibHF",
        "outputId": "c7479ec3-fc4b-4f65-cce8-09ec86203c99"
      },
      "execution_count": null,
      "outputs": [
        {
          "output_type": "stream",
          "name": "stdout",
          "text": [
            "the best parameter for max_depth is: 15\n",
            "the best parameter for n_estimators is: 65\n"
          ]
        },
        {
          "output_type": "display_data",
          "data": {
            "text/plain": [
              "<Figure size 432x288 with 1 Axes>"
            ],
            "image/png": "[encoded data removed]"
          },
          "metadata": {
            "needs_background": "light"
          }
        }
      ]
    },
    {
      "cell_type": "markdown",
      "source": [
        "# Part 4 Model Evaluation"
      ],
      "metadata": {
        "id": "wer-WLrLlmqW"
      }
    },
    {
      "cell_type": "markdown",
      "source": [
        "## Part 4.1 Lasso"
      ],
      "metadata": {
        "id": "RIOq5BQ9l24p"
      }
    },
    {
      "cell_type": "code",
      "source": [
        "pred_y = lasso_f.predict(test_x)\n",
        "lasso_score=lasso.score(test_x,test_y)\n",
        "MSE_lasso=mean_squared_error(test_y,pred_y)\n",
        "RMSE_lasso=np.sqrt(MSE_lasso)\n",
        "print ('lasso score: ', lasso_score)\n",
        "print ('Mean square error of lasso: ', MSE_lasso)\n",
        "print ('Root mean squared error of lasso:', RMSE_lasso)"
      ],
      "metadata": {
        "colab": {
          "base_uri": "https://localhost:8080/"
        },
        "id": "-qUI7GQfoRoZ",
        "outputId": "d8381f76-128b-476f-c410-d28d5db9db2d"
      },
      "execution_count": null,
      "outputs": [
        {
          "output_type": "stream",
          "name": "stdout",
          "text": [
            "lasso score:  0.1895476010026882\n",
            "Mean square error of lasso:  90645308.7406636\n",
            "Root mean squared error of lasso: 9520.782989894455\n"
          ]
        }
      ]
    },
    {
      "cell_type": "markdown",
      "source": [
        "## Part 4.2 Ridge"
      ],
      "metadata": {
        "id": "RMtH0UHwl7sb"
      }
    },
    {
      "cell_type": "code",
      "source": [
        "pred_y = ridge_f.predict(test_x)\n",
        "ridge_score=ridge_f.score(test_x,test_y)\n",
        "MSE_ridge=mean_squared_error(test_y,pred_y)\n",
        "RMSE_ridge=np.sqrt(MSE_ridge)\n",
        "print ('ridge score: ', ridge_score)\n",
        "print ('Mean square error of ridge: ', MSE_ridge)\n",
        "print ('Root mean squared error of ridge:', RMSE_ridge)"
      ],
      "metadata": {
        "colab": {
          "base_uri": "https://localhost:8080/"
        },
        "id": "PDLbgwP0o6-_",
        "outputId": "2396bfec-2bea-4de1-d0bd-792a5d2c650c"
      },
      "execution_count": null,
      "outputs": [
        {
          "output_type": "stream",
          "name": "stdout",
          "text": [
            "ridge score:  0.18944577891694858\n",
            "Mean square error of ridge:  89529651.34642234\n",
            "Root mean squared error of ridge: 9462.01095679044\n"
          ]
        }
      ]
    },
    {
      "cell_type": "markdown",
      "source": [
        "## Part 4.3 Random Forest"
      ],
      "metadata": {
        "id": "H6kmBSQhl-pw"
      }
    },
    {
      "cell_type": "code",
      "source": [
        "rf=RandomForestRegressor(n_estimators=clf.best_params_['n_estimators'],max_depth=clf.best_params_['max_depth'],max_features='sqrt',random_state=2,n_jobs=-1)\n",
        "rf.fit(train_x,train_y)\n",
        "pred_y=rf.predict(test_x)\n",
        "rf_score=rf.score(test_x,test_y)\n",
        "MSE_rf=mean_squared_error(test_y,pred_y)\n",
        "RMSE_rf=np.sqrt(MSE_rf)\n",
        "print ('rf score: ', rf_score)\n",
        "print ('Mean square error of rf: ', MSE_rf)\n",
        "print ('Root mean squared error of rf:', RMSE_rf)"
      ],
      "metadata": {
        "colab": {
          "base_uri": "https://localhost:8080/"
        },
        "id": "haPTEa4bwx12",
        "outputId": "5044edb7-33ba-41fc-bad2-22b299738adc"
      },
      "execution_count": null,
      "outputs": [
        {
          "output_type": "stream",
          "name": "stdout",
          "text": [
            "rf score:  0.7494123437591241\n",
            "Mean square error of rf:  27678623.97284833\n",
            "Root mean squared error of rf: 5261.047801802254\n"
          ]
        }
      ]
    },
    {
      "cell_type": "markdown",
      "source": [
        "## Part 4.4 Comparison"
      ],
      "metadata": {
        "id": "YJLTm3TUmCur"
      }
    },
    {
      "cell_type": "code",
      "source": [
        "lst_score = [lasso_score, ridge_score, rf_score]\n",
        "MSE_lst =  [MSE_lasso, MSE_ridge, MSE_rf]\n",
        "RMSE_lst =  [RMSE_lasso, RMSE_ridge, RMSE_rf]\n",
        "model_lst = ['Lasso_linear', 'Ridge linear', 'Random forest']"
      ],
      "metadata": {
        "id": "_iklQXKOmNDt"
      },
      "execution_count": null,
      "outputs": []
    },
    {
      "cell_type": "code",
      "source": [
        "# R_squared: \n",
        "\n",
        "plt.figure(1)\n",
        "plt.plot(model_lst, lst_score, 'ro')\n",
        "plt.legend(['r-squred / score'], bbox_to_anchor=(1.04,0.5), loc=\"center left\")\n",
        "plt.xlabel('model names',fontsize =16)\n",
        "plt.ylabel('score / r square', fontsize =16)\n",
        "plt.grid(True);"
      ],
      "metadata": {
        "colab": {
          "base_uri": "https://localhost:8080/",
          "height": 285
        },
        "id": "nZkOsF5_tzlT",
        "outputId": "f8f94413-c561-4b2e-d459-2a1238aaff75"
      },
      "execution_count": null,
      "outputs": [
        {
          "output_type": "display_data",
          "data": {
            "text/plain": [
              "<Figure size 432x288 with 1 Axes>"
            ],
            "image/png": "[encoded data removed]"
          },
          "metadata": {
            "needs_background": "light"
          }
        }
      ]
    },
    {
      "cell_type": "code",
      "source": [
        "# Mean Squared Errors\n",
        "\n",
        "plt.figure(2)\n",
        "plt.plot(model_lst, MSE_lst, 'go')\n",
        "plt.legend(['mean square error (MSE)'], bbox_to_anchor=(1.04,0.5), loc=\"center left\")\n",
        "plt.xlabel('model names', fontsize =16)\n",
        "plt.ylabel('mean square error', fontsize =16)\n",
        "plt.grid(True);"
      ],
      "metadata": {
        "colab": {
          "base_uri": "https://localhost:8080/",
          "height": 296
        },
        "id": "rvGnqUK4t5xt",
        "outputId": "b51b217e-d660-420a-d40a-26b2b512dde2"
      },
      "execution_count": null,
      "outputs": [
        {
          "output_type": "display_data",
          "data": {
            "text/plain": [
              "<Figure size 432x288 with 1 Axes>"
            ],
            "image/png": "[encoded data removed]"
          },
          "metadata": {
            "needs_background": "light"
          }
        }
      ]
    },
    {
      "cell_type": "code",
      "source": [
        "# Root Mean Squared Errors\n",
        "plt.figure(3)\n",
        "plt.plot(model_lst, RMSE_lst, 'bo')\n",
        "plt.legend(['root mean square error (RMSE)'], bbox_to_anchor=(1.04,0.5), loc=\"center left\")\n",
        "plt.xlabel('model names', fontsize =16)\n",
        "plt.ylabel('root mean square error', fontsize =16)\n",
        "plt.grid(True);"
      ],
      "metadata": {
        "colab": {
          "base_uri": "https://localhost:8080/",
          "height": 285
        },
        "id": "Q_kjhjUPsEFP",
        "outputId": "ebbccb1e-838b-4c9c-914f-7269abd93b79"
      },
      "execution_count": null,
      "outputs": [
        {
          "output_type": "display_data",
          "data": {
            "text/plain": [
              "<Figure size 432x288 with 1 Axes>"
            ],
            "image/png": "[encoded data removed]"
          },
          "metadata": {
            "needs_background": "light"
          }
        }
      ]
    },
    {
      "cell_type": "markdown",
      "source": [
        "## Part 4.5 Feature Importance"
      ],
      "metadata": {
        "id": "B9npm1MKmGXB"
      }
    },
    {
      "cell_type": "markdown",
      "source": [
        "According to $MSE$, $RMSE$ and $R^2$, the Random Forest Regression has the best performance"
      ],
      "metadata": {
        "id": "nQSQfppOuBhO"
      }
    },
    {
      "cell_type": "code",
      "source": [
        "importances = rf.feature_importances_\n",
        "feature_name = train_x.columns.values\n",
        "indices = np.argsort(importances)[::-1]\n",
        "plt.figure(1)\n",
        "plt.bar(feature_name[indices[:20]], importances[indices[:20]])\n",
        "plt.xticks(rotation=90);"
      ],
      "metadata": {
        "colab": {
          "base_uri": "https://localhost:8080/",
          "height": 407
        },
        "id": "PuuG641fsQz9",
        "outputId": "e81d02d2-ea76-4f4a-89a3-a69bc5bd9fee"
      },
      "execution_count": null,
      "outputs": [
        {
          "output_type": "display_data",
          "data": {
            "text/plain": [
              "<Figure size 432x288 with 1 Axes>"
            ],
            "image/png": "[encoded data removed]"
          },
          "metadata": {
            "needs_background": "light"
          }
        }
      ]
    },
    {
      "cell_type": "code",
      "source": [
        ""
      ],
      "metadata": {
        "id": "15WJpS0KuaSQ"
      },
      "execution_count": null,
      "outputs": []
    }
  ]
}
